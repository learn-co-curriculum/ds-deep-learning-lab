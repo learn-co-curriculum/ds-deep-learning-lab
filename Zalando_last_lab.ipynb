{
 "cells": [
  {
   "cell_type": "markdown",
   "metadata": {},
   "source": [
    "# Zalando example"
   ]
  },
  {
   "cell_type": "markdown",
   "metadata": {},
   "source": [
    "What does this all cover?\n",
    "**General (dense layers)**\n",
    "- Keras\n",
    "- Multilayer perceptron\n",
    "- activation functions\n",
    "- loss function\n",
    "- matrix notation practice\n",
    "- hyperparameter testing (trial and error)\n",
    "- regularization via early stopping (plot validation vs training accuracy)\n",
    "\n",
    "**CNN**\n",
    "- convolutional neural nets\n",
    "- use of all layers: convolution layers, pooling layers, Fully connected layers\n",
    "- sense of the general layer structure\n",
    "- show pictures in python\n",
    "- Visualizing intermediate convnet outputs \n",
    "- regularization via dropout\n",
    "- make a class prediction\n",
    "\n",
    "**Things I have not done (yet)**\n",
    "- k-fold cross-validation (yet wonder about the added value at this stage, makes comp time longer. Or should make the data smaller)\n",
    "- having jpeg images and actually making them manageable to work with (is this done earlier?)\n",
    "- data augmentation --> need de jpegs to do so\n",
    "- vanishing/exploding gradients\n",
    "- L2 regularization\n",
    "---> sequence processing with convolutional neural networks?\n"
   ]
  },
  {
   "cell_type": "markdown",
   "metadata": {},
   "source": [
    "# 1. Introduction"
   ]
  },
  {
   "cell_type": "markdown",
   "metadata": {},
   "source": [
    "In this example we'll get a sense of just how powerful convolutional neural networks get! This data set, the so-called `Fashion-MNIST` was constructed by a research team at online fashion retailer Zalando.  Fashion-MNIST is a dataset of Zalando's article images—consisting of a training set of 60,000 examples and a test set of 10,000 examples. Each example is a 28x28 grayscale image, associated with a label from 10 classes."
   ]
  },
  {
   "cell_type": "code",
   "execution_count": 1,
   "metadata": {},
   "outputs": [
    {
     "name": "stderr",
     "output_type": "stream",
     "text": [
      "/Users/lore.dirick/anaconda3/lib/python3.6/site-packages/h5py/__init__.py:36: FutureWarning: Conversion of the second argument of issubdtype from `float` to `np.floating` is deprecated. In future, it will be treated as `np.float64 == np.dtype(float).type`.\n",
      "  from ._conv import register_converters as _register_converters\n"
     ]
    }
   ],
   "source": [
    "import numpy as np\n",
    "import tensorflow as tf\n",
    "import os\n",
    "import matplotlib.pyplot as plt\n",
    "import matplotlib.image  as img"
   ]
  },
  {
   "cell_type": "code",
   "execution_count": 2,
   "metadata": {},
   "outputs": [],
   "source": [
    "def load_mnist(path, kind='train'):\n",
    "    import os\n",
    "    import gzip\n",
    "    import numpy as np\n",
    "\n",
    "    \"\"\"Load MNIST data from `path`\"\"\"\n",
    "    labels_path = os.path.join(path,\n",
    "                               '%s-labels-idx1-ubyte.gz'\n",
    "                               % kind)\n",
    "    images_path = os.path.join(path,\n",
    "                               '%s-images-idx3-ubyte.gz'\n",
    "                               % kind)\n",
    "\n",
    "    with gzip.open(labels_path, 'rb') as lbpath:\n",
    "        labels = np.frombuffer(lbpath.read(), dtype=np.uint8,\n",
    "                               offset=8)\n",
    "\n",
    "    with gzip.open(images_path, 'rb') as imgpath:\n",
    "        images = np.frombuffer(imgpath.read(), dtype=np.uint8,\n",
    "                               offset=16).reshape(len(labels), 784)\n",
    "\n",
    "    return images, labels"
   ]
  },
  {
   "cell_type": "code",
   "execution_count": 3,
   "metadata": {},
   "outputs": [],
   "source": [
    "train_images, train_labels = load_mnist( path = \"data_zalando/\",kind='train')\n",
    "test_images, test_labels = load_mnist(path = \"data_zalando/\", kind='t10k')"
   ]
  },
  {
   "cell_type": "markdown",
   "metadata": {},
   "source": [
    "This is a fairly big data set. If we keep it as such, runtimes will be longer. Let's take samples of this data set, so we work with 10,000 training instances and 2,500 test instances. Do remember that working with bigger data is generally always better when it comes to training models and getting more accurate results, longer computation times are pretty much the only downside!"
   ]
  },
  {
   "cell_type": "code",
   "execution_count": 4,
   "metadata": {},
   "outputs": [],
   "source": [
    "from random import *\n",
    "import random\n",
    "index_train = range(0,59999)\n",
    "index_test= range(0,9999)\n",
    "\n",
    "random.seed(1109)\n",
    "train_sample = sample(index_train,  10000)\n",
    "test_sample = sample(index_test,  2500)"
   ]
  },
  {
   "cell_type": "code",
   "execution_count": 5,
   "metadata": {},
   "outputs": [],
   "source": [
    "train_images = train_images[train_sample]\n",
    "train_labels = train_labels[train_sample]\n",
    "test_images = test_images[test_sample]\n",
    "test_labels = test_labels[test_sample]"
   ]
  },
  {
   "cell_type": "markdown",
   "metadata": {},
   "source": [
    "Let's verify the shape of the train_images and test_images"
   ]
  },
  {
   "cell_type": "code",
   "execution_count": 6,
   "metadata": {},
   "outputs": [
    {
     "data": {
      "text/plain": [
       "(10000, 784)"
      ]
     },
     "execution_count": 6,
     "metadata": {},
     "output_type": "execute_result"
    }
   ],
   "source": [
    "np.shape(train_images)"
   ]
  },
  {
   "cell_type": "code",
   "execution_count": 7,
   "metadata": {},
   "outputs": [
    {
     "data": {
      "text/plain": [
       "(2500, 784)"
      ]
     },
     "execution_count": 7,
     "metadata": {},
     "output_type": "execute_result"
    }
   ],
   "source": [
    "np.shape(test_images)"
   ]
  },
  {
   "cell_type": "markdown",
   "metadata": {},
   "source": [
    "You can see that now, there are 10,000 observations in the training set, each representing 1 image of 28 x 28 pixels, so each observation contains 784 inputs that range between [0,255] (for a greyscale image, going from white to black). Similarly, there are 2500 images in the test set. Let's have a look at a random observation from `train_images`, let's say, the 4th observation."
   ]
  },
  {
   "cell_type": "code",
   "execution_count": 8,
   "metadata": {},
   "outputs": [
    {
     "data": {
      "text/plain": [
       "array([  0,   0,   0,   0,   2,   1,   0,   1,   1,   1,   0, 146, 173,\n",
       "       138, 141, 146, 173,   0,   0,   3,   1,   1,   1,   0,   0,   0,\n",
       "         0,   0,   0,   0,   0,   0,   1,   3,   3,   0,   0,   0,  50,\n",
       "       231, 244, 248, 249, 249, 232, 148,   0,   0,   0,   0,   3,   1,\n",
       "         0,   0,   0,   0,   0,   0,   0,   0,   2,   0,   0,  12,  97,\n",
       "       173, 213, 190, 228, 255, 245, 245, 186, 202, 176, 103,  39,   0,\n",
       "         0,   2,   0,   0,   0,   0,   0,   0,   0,   0,   0,  13, 177,\n",
       "       191, 203, 199, 197, 181, 186, 219, 225, 203, 169, 191, 198, 207,\n",
       "       196, 203,  65,   0,   0,   0,   0,   0,   0,   0,   0,   0,   0,\n",
       "       168, 205, 186, 183, 183, 186, 199, 215, 198, 172, 217, 213, 190,\n",
       "       180, 181, 183, 194, 196,  43,   0,   0,   0,   0,   0,   0,   0,\n",
       "         0, 113, 209, 184, 188, 188, 188, 188, 183, 185, 207, 148, 186,\n",
       "       181, 184, 186, 186, 184, 181, 192, 201,   0,   0,   0,   0,   0,\n",
       "         0,   0,   0, 185, 201, 191, 190, 190, 189, 189, 187, 197, 195,\n",
       "       160, 192, 184, 185, 181, 185, 184, 190, 185, 208,  23,   0,   0,\n",
       "         0,   0,   0,   0,   3, 219, 194, 195, 192, 190, 190, 188, 188,\n",
       "       191, 202, 187, 189, 181, 186, 187, 179, 183, 180, 179, 207,  61,\n",
       "         0,   0,   0,   0,   0,   0,  52, 213, 192, 198, 196, 193, 191,\n",
       "       189, 187, 186, 189, 185, 189, 185, 186, 202, 181, 186, 179, 183,\n",
       "       205,  99,   0,   0,   0,   0,   0,   0,  88, 201, 188, 213, 220,\n",
       "       191, 193, 190, 189, 188, 187, 187, 188, 188, 185, 185, 179, 198,\n",
       "       217, 191, 189, 137,   0,   0,   0,   0,   0,   0, 179, 216, 224,\n",
       "       247, 208, 201, 201, 194, 192, 189, 189, 188, 189, 187, 191, 191,\n",
       "       189, 185, 237, 226, 208, 177,   0,   0,   0,   0,   0,   0,  51,\n",
       "       154, 208, 175,  63, 212, 202, 197, 193, 191, 189, 188, 189, 190,\n",
       "       190, 190, 202, 133,  87, 220, 140,  27,   0,   0,   0,   0,   0,\n",
       "         0,   0,   0,   0,   0,  59, 211, 191, 201, 191, 191, 189, 188,\n",
       "       189, 188, 187, 181, 196, 162,   0,   0,   0,   0,   0,   0,   0,\n",
       "         0,   0,   0,   0,   0,   0,   0,  82, 211, 192, 202, 191, 192,\n",
       "       190, 188, 189, 188, 190, 186, 188, 169,   0,   0,   0,   0,   0,\n",
       "         0,   0,   0,   0,   0,   0,   0,   3,   0,  82, 201, 191, 201,\n",
       "       191, 192, 190, 188, 189, 188, 191, 191, 188, 164,   0,   0,   0,\n",
       "         0,   0,   0,   0,   0,   0,   0,   0,   0,   5,   0,  70, 195,\n",
       "       190, 194, 189, 191, 190, 188, 189, 189, 185, 191, 188, 157,   0,\n",
       "         0,   0,   0,   0,   0,   0,   0,   0,   0,   0,   0,   5,   0,\n",
       "        63, 195, 187, 191, 190, 191, 190, 189, 189, 190, 185, 187, 191,\n",
       "       151,   0,   0,   0,   0,   0,   0,   0,   0,   0,   0,   0,   0,\n",
       "         5,   0,  66, 198, 186, 192, 190, 191, 190, 189, 189, 189, 189,\n",
       "       178, 195, 140,   0,   0,   0,   0,   0,   0,   0,   0,   0,   0,\n",
       "         0,   0,   5,   0,  61, 195, 186, 192, 190, 191, 190, 189, 189,\n",
       "       190, 188, 178, 194, 135,   0,   0,   0,   0,   0,   0,   0,   0,\n",
       "         0,   0,   0,   0,   4,   0,  68, 192, 186, 193, 191, 191, 191,\n",
       "       190, 189, 190, 188, 184, 191, 141,   0,   0,   0,   0,   0,   0,\n",
       "         0,   0,   0,   0,   0,   0,   5,   0,  74, 193, 185, 194, 192,\n",
       "       192, 191, 190, 189, 189, 188, 185, 191, 151,   0,   0,   1,   0,\n",
       "         0,   0,   0,   0,   0,   0,   0,   0,   5,   0,  74, 192, 187,\n",
       "       194, 192, 192, 193, 192, 189, 187, 188, 185, 192, 165,   0,   0,\n",
       "         1,   0,   0,   0,   0,   0,   0,   0,   0,   0,   5,   0,  74,\n",
       "       193, 189, 193, 192, 193, 193, 191, 189, 187, 188, 185, 191, 175,\n",
       "         0,   0,   1,   0,   0,   0,   0,   0,   0,   0,   0,   0,   5,\n",
       "         0,  76, 197, 189, 190, 191, 193, 190, 188, 189, 190, 187, 184,\n",
       "       190, 185,   0,   0,   1,   0,   0,   0,   0,   0,   0,   0,   0,\n",
       "         0,   5,   0,  77, 197, 189, 189, 191, 192, 190, 190, 189, 189,\n",
       "       187, 185, 188, 197,   0,   0,   2,   0,   0,   0,   0,   0,   0,\n",
       "         0,   0,   0,   5,   0,  75, 196, 186, 185, 186, 187, 186, 186,\n",
       "       186, 186, 181, 184, 185, 172,   0,   0,   3,   0,   0,   0,   0,\n",
       "         0,   0,   0,   0,   0,   6,   0,  88, 204, 191, 206, 205, 205,\n",
       "       205, 205, 205, 205, 204, 202, 190, 184,  14,   0,   4,   0,   0,\n",
       "         0,   0,   0,   0,   0,   0,   0,   4,   0,  63, 175, 138, 140,\n",
       "       140, 141, 137, 136, 136, 136, 132, 130, 132, 148,   4,   0,   2,\n",
       "         0,   0,   0,   0], dtype=uint8)"
      ]
     },
     "execution_count": 8,
     "metadata": {},
     "output_type": "execute_result"
    }
   ],
   "source": [
    "train_images[3]"
   ]
  },
  {
   "cell_type": "markdown",
   "metadata": {},
   "source": [
    "It would be nice if we could actually see what this picture looks like. Note that the form $(n\\_obs, total\\_n\\_pixels)$, which is what we obtained looking at `np.shape(train_images)`, is desirable when training neural networks, but if we want to *visualize* the actual images, we need to reshape $total\\_n\\_pixels$ to something of the form ($horiz\\_pixels$, $vertical\\_pixels$). Let's use the numpy function `matrix.reshape` to look at the 4th image."
   ]
  },
  {
   "cell_type": "code",
   "execution_count": 9,
   "metadata": {},
   "outputs": [],
   "source": [
    "reshape_example= np.matrix.reshape(train_images[3],28,28)"
   ]
  },
  {
   "cell_type": "markdown",
   "metadata": {},
   "source": [
    "Let's quickly have a look at how this changed the data structure. Notice how you have an 28 x 28 matrix now!"
   ]
  },
  {
   "cell_type": "code",
   "execution_count": 10,
   "metadata": {},
   "outputs": [
    {
     "data": {
      "text/plain": [
       "array([[  0,   0,   0,   0,   2,   1,   0,   1,   1,   1,   0, 146, 173,\n",
       "        138, 141, 146, 173,   0,   0,   3,   1,   1,   1,   0,   0,   0,\n",
       "          0,   0],\n",
       "       [  0,   0,   0,   0,   1,   3,   3,   0,   0,   0,  50, 231, 244,\n",
       "        248, 249, 249, 232, 148,   0,   0,   0,   0,   3,   1,   0,   0,\n",
       "          0,   0],\n",
       "       [  0,   0,   0,   0,   2,   0,   0,  12,  97, 173, 213, 190, 228,\n",
       "        255, 245, 245, 186, 202, 176, 103,  39,   0,   0,   2,   0,   0,\n",
       "          0,   0],\n",
       "       [  0,   0,   0,   0,   0,  13, 177, 191, 203, 199, 197, 181, 186,\n",
       "        219, 225, 203, 169, 191, 198, 207, 196, 203,  65,   0,   0,   0,\n",
       "          0,   0],\n",
       "       [  0,   0,   0,   0,   0, 168, 205, 186, 183, 183, 186, 199, 215,\n",
       "        198, 172, 217, 213, 190, 180, 181, 183, 194, 196,  43,   0,   0,\n",
       "          0,   0],\n",
       "       [  0,   0,   0,   0, 113, 209, 184, 188, 188, 188, 188, 183, 185,\n",
       "        207, 148, 186, 181, 184, 186, 186, 184, 181, 192, 201,   0,   0,\n",
       "          0,   0],\n",
       "       [  0,   0,   0,   0, 185, 201, 191, 190, 190, 189, 189, 187, 197,\n",
       "        195, 160, 192, 184, 185, 181, 185, 184, 190, 185, 208,  23,   0,\n",
       "          0,   0],\n",
       "       [  0,   0,   0,   3, 219, 194, 195, 192, 190, 190, 188, 188, 191,\n",
       "        202, 187, 189, 181, 186, 187, 179, 183, 180, 179, 207,  61,   0,\n",
       "          0,   0],\n",
       "       [  0,   0,   0,  52, 213, 192, 198, 196, 193, 191, 189, 187, 186,\n",
       "        189, 185, 189, 185, 186, 202, 181, 186, 179, 183, 205,  99,   0,\n",
       "          0,   0],\n",
       "       [  0,   0,   0,  88, 201, 188, 213, 220, 191, 193, 190, 189, 188,\n",
       "        187, 187, 188, 188, 185, 185, 179, 198, 217, 191, 189, 137,   0,\n",
       "          0,   0],\n",
       "       [  0,   0,   0, 179, 216, 224, 247, 208, 201, 201, 194, 192, 189,\n",
       "        189, 188, 189, 187, 191, 191, 189, 185, 237, 226, 208, 177,   0,\n",
       "          0,   0],\n",
       "       [  0,   0,   0,  51, 154, 208, 175,  63, 212, 202, 197, 193, 191,\n",
       "        189, 188, 189, 190, 190, 190, 202, 133,  87, 220, 140,  27,   0,\n",
       "          0,   0],\n",
       "       [  0,   0,   0,   0,   0,   0,   0,  59, 211, 191, 201, 191, 191,\n",
       "        189, 188, 189, 188, 187, 181, 196, 162,   0,   0,   0,   0,   0,\n",
       "          0,   0],\n",
       "       [  0,   0,   0,   0,   0,   0,   0,  82, 211, 192, 202, 191, 192,\n",
       "        190, 188, 189, 188, 190, 186, 188, 169,   0,   0,   0,   0,   0,\n",
       "          0,   0],\n",
       "       [  0,   0,   0,   0,   0,   3,   0,  82, 201, 191, 201, 191, 192,\n",
       "        190, 188, 189, 188, 191, 191, 188, 164,   0,   0,   0,   0,   0,\n",
       "          0,   0],\n",
       "       [  0,   0,   0,   0,   0,   5,   0,  70, 195, 190, 194, 189, 191,\n",
       "        190, 188, 189, 189, 185, 191, 188, 157,   0,   0,   0,   0,   0,\n",
       "          0,   0],\n",
       "       [  0,   0,   0,   0,   0,   5,   0,  63, 195, 187, 191, 190, 191,\n",
       "        190, 189, 189, 190, 185, 187, 191, 151,   0,   0,   0,   0,   0,\n",
       "          0,   0],\n",
       "       [  0,   0,   0,   0,   0,   5,   0,  66, 198, 186, 192, 190, 191,\n",
       "        190, 189, 189, 189, 189, 178, 195, 140,   0,   0,   0,   0,   0,\n",
       "          0,   0],\n",
       "       [  0,   0,   0,   0,   0,   5,   0,  61, 195, 186, 192, 190, 191,\n",
       "        190, 189, 189, 190, 188, 178, 194, 135,   0,   0,   0,   0,   0,\n",
       "          0,   0],\n",
       "       [  0,   0,   0,   0,   0,   4,   0,  68, 192, 186, 193, 191, 191,\n",
       "        191, 190, 189, 190, 188, 184, 191, 141,   0,   0,   0,   0,   0,\n",
       "          0,   0],\n",
       "       [  0,   0,   0,   0,   0,   5,   0,  74, 193, 185, 194, 192, 192,\n",
       "        191, 190, 189, 189, 188, 185, 191, 151,   0,   0,   1,   0,   0,\n",
       "          0,   0],\n",
       "       [  0,   0,   0,   0,   0,   5,   0,  74, 192, 187, 194, 192, 192,\n",
       "        193, 192, 189, 187, 188, 185, 192, 165,   0,   0,   1,   0,   0,\n",
       "          0,   0],\n",
       "       [  0,   0,   0,   0,   0,   5,   0,  74, 193, 189, 193, 192, 193,\n",
       "        193, 191, 189, 187, 188, 185, 191, 175,   0,   0,   1,   0,   0,\n",
       "          0,   0],\n",
       "       [  0,   0,   0,   0,   0,   5,   0,  76, 197, 189, 190, 191, 193,\n",
       "        190, 188, 189, 190, 187, 184, 190, 185,   0,   0,   1,   0,   0,\n",
       "          0,   0],\n",
       "       [  0,   0,   0,   0,   0,   5,   0,  77, 197, 189, 189, 191, 192,\n",
       "        190, 190, 189, 189, 187, 185, 188, 197,   0,   0,   2,   0,   0,\n",
       "          0,   0],\n",
       "       [  0,   0,   0,   0,   0,   5,   0,  75, 196, 186, 185, 186, 187,\n",
       "        186, 186, 186, 186, 181, 184, 185, 172,   0,   0,   3,   0,   0,\n",
       "          0,   0],\n",
       "       [  0,   0,   0,   0,   0,   6,   0,  88, 204, 191, 206, 205, 205,\n",
       "        205, 205, 205, 205, 204, 202, 190, 184,  14,   0,   4,   0,   0,\n",
       "          0,   0],\n",
       "       [  0,   0,   0,   0,   0,   4,   0,  63, 175, 138, 140, 140, 141,\n",
       "        137, 136, 136, 136, 132, 130, 132, 148,   4,   0,   2,   0,   0,\n",
       "          0,   0]], dtype=uint8)"
      ]
     },
     "execution_count": 10,
     "metadata": {},
     "output_type": "execute_result"
    }
   ],
   "source": [
    "reshape_example"
   ]
  },
  {
   "cell_type": "code",
   "execution_count": 11,
   "metadata": {},
   "outputs": [
    {
     "data": {
      "image/png": "[encoded data removed]",
      "text/plain": [
       "<matplotlib.figure.Figure at 0x181e5c70b8>"
      ]
     },
     "metadata": {},
     "output_type": "display_data"
    }
   ],
   "source": [
    "%matplotlib inline\n",
    "import matplotlib.pyplot as plt\n",
    "plt.imshow(reshape_example, cmap=plt.cm.binary)\n",
    "plt.show()"
   ]
  },
  {
   "cell_type": "markdown",
   "metadata": {},
   "source": [
    "Remember that the resolution of this image is pretty low, but for this example it's definitely clear that this is a shirt!"
   ]
  },
  {
   "cell_type": "markdown",
   "metadata": {},
   "source": [
    "Let's look at the labels. As mentioned, there are 10 classes of clothing in this data set. In the `train_labels` (`test_labels`) data set, this means that there are exactly 10,000 (2500) inputs with each input ranging from [0,9]."
   ]
  },
  {
   "cell_type": "code",
   "execution_count": 12,
   "metadata": {},
   "outputs": [
    {
     "data": {
      "text/plain": [
       "(10000,)"
      ]
     },
     "execution_count": 12,
     "metadata": {},
     "output_type": "execute_result"
    }
   ],
   "source": [
    "np.shape(train_labels)"
   ]
  },
  {
   "cell_type": "code",
   "execution_count": 13,
   "metadata": {},
   "outputs": [
    {
     "data": {
      "text/plain": [
       "array([4, 6, 2, ..., 8, 1, 0], dtype=uint8)"
      ]
     },
     "execution_count": 13,
     "metadata": {},
     "output_type": "execute_result"
    }
   ],
   "source": [
    "train_labels"
   ]
  },
  {
   "cell_type": "markdown",
   "metadata": {},
   "source": [
    "Although we'll keep this decoded version to train and test our model (actually, we'll decode even further and perform one-hot encoding), it would be nice if we could do a sanity check on our data now and verify that the train instances are labeled correctly. The dictionary `cat_dict` contains the so-called \"encoding information\", to encode the data back from number to clothing category. The `encoded_labels` object contains the encoded labels. Let's have a look at the 4th observation in the `encoded_labels` and check if the picture we showed before is indeed identified as a dress."
   ]
  },
  {
   "cell_type": "code",
   "execution_count": 14,
   "metadata": {},
   "outputs": [],
   "source": [
    "encoded_labels = {0:'T-shirt/Top',\n",
    "                  1:'Trouser',\n",
    "                  2:'Pullover',\n",
    "                  3:'Dress',\n",
    "                  4:'Coat',\n",
    "                  5:'Sandal',\n",
    "                  6:'Shirt',\n",
    "                  7:'Sneaker',\n",
    "                  8:'Bag',\n",
    "                  9:'Ankle Boot'}\n",
    "\n",
    "encoded_train = [encoded_labels[i] for i in train_labels]\n",
    "encoded_test = [encoded_labels[i] for i in test_labels]"
   ]
  },
  {
   "cell_type": "code",
   "execution_count": 15,
   "metadata": {},
   "outputs": [
    {
     "data": {
      "text/plain": [
       "'T-shirt/Top'"
      ]
     },
     "execution_count": 15,
     "metadata": {},
     "output_type": "execute_result"
    }
   ],
   "source": [
    "encoded_train[3]"
   ]
  },
  {
   "cell_type": "markdown",
   "metadata": {},
   "source": [
    "This label seems to be correct! By replacing the value passed in `index_test` below, you can look at several pictures and the associated label. "
   ]
  },
  {
   "cell_type": "code",
   "execution_count": 16,
   "metadata": {},
   "outputs": [
    {
     "data": {
      "image/png": "[encoded data removed]",
      "text/plain": [
       "<matplotlib.figure.Figure at 0x18245a3128>"
      ]
     },
     "metadata": {},
     "output_type": "display_data"
    },
    {
     "data": {
      "text/plain": [
       "'Sandal'"
      ]
     },
     "execution_count": 16,
     "metadata": {},
     "output_type": "execute_result"
    }
   ],
   "source": [
    "index_fill = 1376 # replace with any value between 0 and 9999\n",
    "\n",
    "reshape= np.matrix.reshape(train_images[index_fill],28,28)\n",
    "\n",
    "import matplotlib.pyplot as plt\n",
    "plt.imshow(reshape, cmap=plt.cm.binary)\n",
    "plt.show()\n",
    "\n",
    "encoded_train[index_fill]"
   ]
  },
  {
   "cell_type": "markdown",
   "metadata": {},
   "source": [
    "# 2. Build densely connected network as a baseline"
   ]
  },
  {
   "cell_type": "markdown",
   "metadata": {},
   "source": [
    "Every time you run a newer, more advanced model on your data, you would want to make sure you compare it with what you have learned. For that reason, let's look at a dense neural network as a baseline before diving into convolutional networks. As data is manipulated slightly differently in convolutional networks, let's perform data manipulation for the dense network, and we'll start over from scratch for the convolutional neural network."
   ]
  },
  {
   "cell_type": "markdown",
   "metadata": {},
   "source": [
    "Remember that the image data is stored in an array of shape (10000, 784) of type uint8 with values in the [0, 255] interval. To serve as input for the model, we want transform it into a float32 array of the same shape, but with values between 0 and 1 instead of 0 and 255.  "
   ]
  },
  {
   "cell_type": "code",
   "execution_count": 17,
   "metadata": {},
   "outputs": [],
   "source": [
    "train_images = train_images.astype('float32') / 255\n",
    "test_images = test_images.astype('float32') / 255"
   ]
  },
  {
   "cell_type": "markdown",
   "metadata": {},
   "source": [
    "We're not quite done yet. Remember that instead of a label somewhere [0,9], neural networks generally use one-hot encoding. For this exercise, this means that the label for each observation is replaced by a vector containing 9 `0`'s and just 1 `1`, in the place of the label index.\n",
    "\n",
    "You can use `to_categorical` in `keras.utils` to do this."
   ]
  },
  {
   "cell_type": "code",
   "execution_count": 18,
   "metadata": {},
   "outputs": [
    {
     "name": "stderr",
     "output_type": "stream",
     "text": [
      "Using TensorFlow backend.\n"
     ]
    }
   ],
   "source": [
    "from keras.utils import to_categorical\n",
    "train_labels = to_categorical(train_labels)\n",
    "test_labels= to_categorical(test_labels)"
   ]
  },
  {
   "cell_type": "markdown",
   "metadata": {},
   "source": [
    "From our 10,000 training set elements, let set 2000 aside for validation."
   ]
  },
  {
   "cell_type": "code",
   "execution_count": 19,
   "metadata": {},
   "outputs": [],
   "source": [
    "img_val = train_images[:2000]\n",
    "partial_img_train  = train_images[2000:]\n",
    "label_val = train_labels[:2000]\n",
    "partial_label_train = train_labels[2000:]"
   ]
  },
  {
   "cell_type": "markdown",
   "metadata": {},
   "source": [
    "Now, let's build our baseline network. You'll build two dense hidden layers, the first one with 128 hidden units, and the second one with 64 hidden units. Use the rectified linear unit as an activation function for both. Remember that the input shape is 28 x 28 for both layers. The last layer of the network should have a softmax activation function (because this is a multiclass problem), and 10 units.\n",
    "\n",
    "Let's train the model for 50 epochs in batches of 128."
   ]
  },
  {
   "cell_type": "code",
   "execution_count": 20,
   "metadata": {},
   "outputs": [
    {
     "name": "stdout",
     "output_type": "stream",
     "text": [
      "Train on 8000 samples, validate on 2000 samples\n",
      "Epoch 1/50\n",
      "8000/8000 [==============================] - 1s 89us/step - loss: 0.9714 - acc: 0.6677 - val_loss: 0.7533 - val_acc: 0.7180\n",
      "Epoch 2/50\n",
      "8000/8000 [==============================] - 0s 30us/step - loss: 0.6193 - acc: 0.7801 - val_loss: 0.6264 - val_acc: 0.7745\n",
      "Epoch 3/50\n",
      "8000/8000 [==============================] - 0s 26us/step - loss: 0.5466 - acc: 0.8064 - val_loss: 0.6045 - val_acc: 0.7825\n",
      "Epoch 4/50\n",
      "8000/8000 [==============================] - 0s 27us/step - loss: 0.4923 - acc: 0.8255 - val_loss: 0.6463 - val_acc: 0.7550\n",
      "Epoch 5/50\n",
      "8000/8000 [==============================] - 0s 26us/step - loss: 0.4618 - acc: 0.8372 - val_loss: 0.4584 - val_acc: 0.8310\n",
      "Epoch 6/50\n",
      "8000/8000 [==============================] - 0s 28us/step - loss: 0.4334 - acc: 0.8481 - val_loss: 0.5207 - val_acc: 0.8120\n",
      "Epoch 7/50\n",
      "8000/8000 [==============================] - 0s 36us/step - loss: 0.4111 - acc: 0.8522 - val_loss: 0.5059 - val_acc: 0.8340\n",
      "Epoch 8/50\n",
      "8000/8000 [==============================] - 0s 28us/step - loss: 0.3835 - acc: 0.8601 - val_loss: 0.4528 - val_acc: 0.8540\n",
      "Epoch 9/50\n",
      "8000/8000 [==============================] - 0s 25us/step - loss: 0.3691 - acc: 0.8672 - val_loss: 0.5035 - val_acc: 0.8155\n",
      "Epoch 10/50\n",
      "8000/8000 [==============================] - 0s 34us/step - loss: 0.3547 - acc: 0.8680 - val_loss: 0.4641 - val_acc: 0.8475\n",
      "Epoch 11/50\n",
      "8000/8000 [==============================] - 0s 29us/step - loss: 0.3376 - acc: 0.8791 - val_loss: 0.4562 - val_acc: 0.8475\n",
      "Epoch 12/50\n",
      "8000/8000 [==============================] - 0s 24us/step - loss: 0.3229 - acc: 0.8835 - val_loss: 0.4464 - val_acc: 0.8525\n",
      "Epoch 13/50\n",
      "8000/8000 [==============================] - 0s 32us/step - loss: 0.3171 - acc: 0.8891 - val_loss: 0.4797 - val_acc: 0.8310\n",
      "Epoch 14/50\n",
      "8000/8000 [==============================] - 0s 32us/step - loss: 0.3045 - acc: 0.8902 - val_loss: 0.4875 - val_acc: 0.8200\n",
      "Epoch 15/50\n",
      "8000/8000 [==============================] - 0s 27us/step - loss: 0.2842 - acc: 0.8945 - val_loss: 0.4549 - val_acc: 0.8360\n",
      "Epoch 16/50\n",
      "8000/8000 [==============================] - 0s 27us/step - loss: 0.2809 - acc: 0.8974 - val_loss: 0.4759 - val_acc: 0.8340\n",
      "Epoch 17/50\n",
      "8000/8000 [==============================] - 0s 31us/step - loss: 0.2701 - acc: 0.9025 - val_loss: 0.4351 - val_acc: 0.8555\n",
      "Epoch 18/50\n",
      "8000/8000 [==============================] - 0s 28us/step - loss: 0.2604 - acc: 0.9068 - val_loss: 0.4432 - val_acc: 0.8410\n",
      "Epoch 19/50\n",
      "8000/8000 [==============================] - 0s 26us/step - loss: 0.2549 - acc: 0.9059 - val_loss: 0.4385 - val_acc: 0.8450\n",
      "Epoch 20/50\n",
      "8000/8000 [==============================] - 0s 29us/step - loss: 0.2431 - acc: 0.9094 - val_loss: 0.4360 - val_acc: 0.8540\n",
      "Epoch 21/50\n",
      "8000/8000 [==============================] - 0s 34us/step - loss: 0.2353 - acc: 0.9144 - val_loss: 0.4163 - val_acc: 0.8565\n",
      "Epoch 22/50\n",
      "8000/8000 [==============================] - 0s 28us/step - loss: 0.2253 - acc: 0.9164 - val_loss: 0.4264 - val_acc: 0.8530\n",
      "Epoch 23/50\n",
      "8000/8000 [==============================] - 0s 28us/step - loss: 0.2220 - acc: 0.9203 - val_loss: 0.4935 - val_acc: 0.8350\n",
      "Epoch 24/50\n",
      "8000/8000 [==============================] - 0s 33us/step - loss: 0.2188 - acc: 0.9213 - val_loss: 0.4262 - val_acc: 0.8545\n",
      "Epoch 25/50\n",
      "8000/8000 [==============================] - 0s 31us/step - loss: 0.2038 - acc: 0.9248 - val_loss: 0.5933 - val_acc: 0.8065\n",
      "Epoch 26/50\n",
      "8000/8000 [==============================] - 0s 31us/step - loss: 0.2063 - acc: 0.9276 - val_loss: 0.4938 - val_acc: 0.8385\n",
      "Epoch 27/50\n",
      "8000/8000 [==============================] - 0s 32us/step - loss: 0.1962 - acc: 0.9286 - val_loss: 0.4719 - val_acc: 0.8460\n",
      "Epoch 28/50\n",
      "8000/8000 [==============================] - 0s 31us/step - loss: 0.1905 - acc: 0.9309 - val_loss: 0.4289 - val_acc: 0.8560\n",
      "Epoch 29/50\n",
      "8000/8000 [==============================] - 0s 32us/step - loss: 0.1845 - acc: 0.9297 - val_loss: 0.3989 - val_acc: 0.8660\n",
      "Epoch 30/50\n",
      "8000/8000 [==============================] - 0s 34us/step - loss: 0.1787 - acc: 0.9376 - val_loss: 0.4161 - val_acc: 0.8645\n",
      "Epoch 31/50\n",
      "8000/8000 [==============================] - 0s 29us/step - loss: 0.1746 - acc: 0.9375 - val_loss: 0.4485 - val_acc: 0.8555\n",
      "Epoch 32/50\n",
      "8000/8000 [==============================] - 0s 34us/step - loss: 0.1668 - acc: 0.9394 - val_loss: 0.4356 - val_acc: 0.8595\n",
      "Epoch 33/50\n",
      "8000/8000 [==============================] - 0s 33us/step - loss: 0.1633 - acc: 0.9387 - val_loss: 0.5048 - val_acc: 0.8445\n",
      "Epoch 34/50\n",
      "8000/8000 [==============================] - 0s 30us/step - loss: 0.1612 - acc: 0.9435 - val_loss: 0.4780 - val_acc: 0.8525\n",
      "Epoch 35/50\n",
      "8000/8000 [==============================] - 0s 30us/step - loss: 0.1616 - acc: 0.9430 - val_loss: 0.4750 - val_acc: 0.8530\n",
      "Epoch 36/50\n",
      "8000/8000 [==============================] - 0s 26us/step - loss: 0.1425 - acc: 0.9510 - val_loss: 0.5315 - val_acc: 0.8450\n",
      "Epoch 37/50\n",
      "8000/8000 [==============================] - 0s 33us/step - loss: 0.1451 - acc: 0.9469 - val_loss: 0.4623 - val_acc: 0.8530\n",
      "Epoch 38/50\n",
      "8000/8000 [==============================] - 0s 32us/step - loss: 0.1451 - acc: 0.9451 - val_loss: 0.4626 - val_acc: 0.8655\n",
      "Epoch 39/50\n",
      "8000/8000 [==============================] - 0s 28us/step - loss: 0.1358 - acc: 0.9495 - val_loss: 0.4623 - val_acc: 0.8600\n",
      "Epoch 40/50\n",
      "8000/8000 [==============================] - 0s 34us/step - loss: 0.1345 - acc: 0.9515 - val_loss: 0.4899 - val_acc: 0.8640\n",
      "Epoch 41/50\n",
      "8000/8000 [==============================] - 0s 38us/step - loss: 0.1272 - acc: 0.9546 - val_loss: 0.5337 - val_acc: 0.8565\n",
      "Epoch 42/50\n",
      "8000/8000 [==============================] - 0s 34us/step - loss: 0.1251 - acc: 0.9526 - val_loss: 0.4411 - val_acc: 0.8695\n",
      "Epoch 43/50\n",
      "8000/8000 [==============================] - 0s 32us/step - loss: 0.1190 - acc: 0.9569 - val_loss: 0.5007 - val_acc: 0.8560\n",
      "Epoch 44/50\n",
      "8000/8000 [==============================] - 0s 33us/step - loss: 0.1242 - acc: 0.9570 - val_loss: 0.5710 - val_acc: 0.8405\n",
      "Epoch 45/50\n",
      "8000/8000 [==============================] - 0s 33us/step - loss: 0.1188 - acc: 0.9561 - val_loss: 0.4745 - val_acc: 0.8650\n",
      "Epoch 46/50\n",
      "8000/8000 [==============================] - 0s 33us/step - loss: 0.1079 - acc: 0.9609 - val_loss: 0.5565 - val_acc: 0.8445\n",
      "Epoch 47/50\n",
      "8000/8000 [==============================] - 0s 31us/step - loss: 0.1050 - acc: 0.9609 - val_loss: 0.4900 - val_acc: 0.8665\n",
      "Epoch 48/50\n",
      "8000/8000 [==============================] - 0s 28us/step - loss: 0.1015 - acc: 0.9629 - val_loss: 0.5293 - val_acc: 0.8575\n",
      "Epoch 49/50\n",
      "8000/8000 [==============================] - 0s 34us/step - loss: 0.1016 - acc: 0.9663 - val_loss: 0.5716 - val_acc: 0.8550\n",
      "Epoch 50/50\n",
      "8000/8000 [==============================] - 0s 30us/step - loss: 0.0943 - acc: 0.9670 - val_loss: 0.7074 - val_acc: 0.8370\n"
     ]
    }
   ],
   "source": [
    "from keras import models\n",
    "from keras import layers\n",
    "dense = models.Sequential()\n",
    "dense.add(layers.Dense(128, activation='relu', input_shape=(28 * 28,)))\n",
    "dense.add(layers.Dense(64, activation='relu', input_shape=(28 * 28,)))\n",
    "dense.add(layers.Dense(10, activation='softmax'))\n",
    "\n",
    "dense.compile(optimizer='rmsprop',\n",
    "                loss='categorical_crossentropy',\n",
    "                metrics=['accuracy'])\n",
    "\n",
    "dense_fit = dense.fit(partial_img_train, \n",
    "                      partial_label_train, \n",
    "                      epochs=50, \n",
    "                      batch_size=128,\n",
    "                      validation_data=(img_val, label_val))"
   ]
  },
  {
   "cell_type": "markdown",
   "metadata": {},
   "source": [
    "Let's plot the evolution of the training versus validation loss along the epochs."
   ]
  },
  {
   "cell_type": "code",
   "execution_count": 21,
   "metadata": {},
   "outputs": [
    {
     "data": {
      "image/png": "[encoded data removed]",
      "text/plain": [
       "<matplotlib.figure.Figure at 0x1824d2fc50>"
      ]
     },
     "metadata": {},
     "output_type": "display_data"
    }
   ],
   "source": [
    "hist_dense = dense_fit.history\n",
    "loss_values = hist_dense['loss']\n",
    "val_loss_values = hist_dense['val_loss']\n",
    "\n",
    "epochs = range(1, len(loss_values) + 1)\n",
    "plt.plot(epochs, loss_values, 'g.', label='Training loss')\n",
    "plt.plot(epochs, val_loss_values, 'g', label='Validation loss')\n",
    "\n",
    "plt.title('Training and validation loss')\n",
    "plt.xlabel('Epochs')\n",
    "plt.ylabel('Loss')\n",
    "plt.legend()\n",
    "plt.show()"
   ]
  },
  {
   "cell_type": "markdown",
   "metadata": {},
   "source": [
    "Let's plot the evolution of the training versus validation accuracy along the epochs."
   ]
  },
  {
   "cell_type": "code",
   "execution_count": 22,
   "metadata": {},
   "outputs": [
    {
     "data": {
      "image/png": "[encoded data removed]",
      "text/plain": [
       "<matplotlib.figure.Figure at 0x1824d2f978>"
      ]
     },
     "metadata": {},
     "output_type": "display_data"
    }
   ],
   "source": [
    "acc_values = hist_dense['acc'] \n",
    "val_acc_values = hist_dense['val_acc']\n",
    "\n",
    "plt.plot(epochs, acc_values, 'r.', label='Training acc')\n",
    "plt.plot(epochs, val_acc_values, 'r', label='Validation acc')\n",
    "plt.title('Training and validation accuracy')\n",
    "plt.xlabel('Epochs')\n",
    "plt.ylabel('Loss')\n",
    "plt.legend()\n",
    "plt.show()"
   ]
  },
  {
   "cell_type": "markdown",
   "metadata": {},
   "source": [
    "The validation accuracy and loss seem to be fairly volatile, but as we move along the epochs, the validation loss seems to go up again.\n",
    "It seems appropriate to stop training after about ~20 epochs. Let's run the model again changing `epochs = 20`, and let's look at the results."
   ]
  },
  {
   "cell_type": "code",
   "execution_count": 23,
   "metadata": {},
   "outputs": [
    {
     "name": "stdout",
     "output_type": "stream",
     "text": [
      "Train on 8000 samples, validate on 2000 samples\n",
      "Epoch 1/20\n",
      "8000/8000 [==============================] - 0s 62us/step - loss: 0.9835 - acc: 0.6654 - val_loss: 0.6830 - val_acc: 0.7690\n",
      "Epoch 2/20\n",
      "8000/8000 [==============================] - 0s 24us/step - loss: 0.6300 - acc: 0.7776 - val_loss: 0.5619 - val_acc: 0.7935\n",
      "Epoch 3/20\n",
      "8000/8000 [==============================] - 0s 32us/step - loss: 0.5463 - acc: 0.8109 - val_loss: 0.5249 - val_acc: 0.8120\n",
      "Epoch 4/20\n",
      "8000/8000 [==============================] - 0s 28us/step - loss: 0.4951 - acc: 0.8233 - val_loss: 0.5400 - val_acc: 0.8015\n",
      "Epoch 5/20\n",
      "8000/8000 [==============================] - 0s 26us/step - loss: 0.4619 - acc: 0.8320 - val_loss: 0.5592 - val_acc: 0.7895\n",
      "Epoch 6/20\n",
      "8000/8000 [==============================] - 0s 25us/step - loss: 0.4289 - acc: 0.8485 - val_loss: 0.4861 - val_acc: 0.8225\n",
      "Epoch 7/20\n",
      "8000/8000 [==============================] - 0s 28us/step - loss: 0.4046 - acc: 0.8582 - val_loss: 0.4600 - val_acc: 0.8365\n",
      "Epoch 8/20\n",
      "8000/8000 [==============================] - 0s 26us/step - loss: 0.3907 - acc: 0.8585 - val_loss: 0.4659 - val_acc: 0.8340\n",
      "Epoch 9/20\n",
      "8000/8000 [==============================] - 0s 25us/step - loss: 0.3710 - acc: 0.8706 - val_loss: 0.4525 - val_acc: 0.8445\n",
      "Epoch 10/20\n",
      "8000/8000 [==============================] - 0s 27us/step - loss: 0.3479 - acc: 0.8780 - val_loss: 0.4150 - val_acc: 0.8515\n",
      "Epoch 11/20\n",
      "8000/8000 [==============================] - 0s 24us/step - loss: 0.3328 - acc: 0.8794 - val_loss: 0.4609 - val_acc: 0.8310\n",
      "Epoch 12/20\n",
      "8000/8000 [==============================] - 0s 33us/step - loss: 0.3297 - acc: 0.8771 - val_loss: 0.4562 - val_acc: 0.8400\n",
      "Epoch 13/20\n",
      "8000/8000 [==============================] - 0s 34us/step - loss: 0.3076 - acc: 0.8882 - val_loss: 0.3912 - val_acc: 0.8615\n",
      "Epoch 14/20\n",
      "8000/8000 [==============================] - 0s 37us/step - loss: 0.3010 - acc: 0.8885 - val_loss: 0.4840 - val_acc: 0.8315\n",
      "Epoch 15/20\n",
      "8000/8000 [==============================] - 0s 27us/step - loss: 0.2878 - acc: 0.8946 - val_loss: 0.4684 - val_acc: 0.8415\n",
      "Epoch 16/20\n",
      "8000/8000 [==============================] - 0s 25us/step - loss: 0.2753 - acc: 0.8981 - val_loss: 0.4125 - val_acc: 0.8535\n",
      "Epoch 17/20\n",
      "8000/8000 [==============================] - 0s 33us/step - loss: 0.2697 - acc: 0.9008 - val_loss: 0.4235 - val_acc: 0.8555\n",
      "Epoch 18/20\n",
      "8000/8000 [==============================] - 0s 28us/step - loss: 0.2517 - acc: 0.9071 - val_loss: 0.4604 - val_acc: 0.8325\n",
      "Epoch 19/20\n",
      "8000/8000 [==============================] - 0s 25us/step - loss: 0.2473 - acc: 0.9129 - val_loss: 0.4907 - val_acc: 0.8340\n",
      "Epoch 20/20\n",
      "8000/8000 [==============================] - 0s 26us/step - loss: 0.2454 - acc: 0.9106 - val_loss: 0.5206 - val_acc: 0.8205\n"
     ]
    }
   ],
   "source": [
    "dense_final = models.Sequential()\n",
    "dense_final.add(layers.Dense(128, activation='relu', input_shape=(28 * 28,)))\n",
    "dense_final.add(layers.Dense(64, activation='relu', input_shape=(28 * 28,)))\n",
    "dense_final.add(layers.Dense(10, activation='softmax'))\n",
    "\n",
    "dense_final.compile(optimizer='rmsprop',\n",
    "                loss='categorical_crossentropy',\n",
    "                metrics=['accuracy'])\n",
    "\n",
    "dense_final_fit = dense_final.fit(partial_img_train, \n",
    "                                  partial_label_train, \n",
    "                                  epochs=20, \n",
    "                                  batch_size=128,\n",
    "                                  validation_data=(img_val, label_val))"
   ]
  },
  {
   "cell_type": "code",
   "execution_count": 24,
   "metadata": {},
   "outputs": [
    {
     "name": "stdout",
     "output_type": "stream",
     "text": [
      "2500/2500 [==============================] - 0s 23us/step\n"
     ]
    }
   ],
   "source": [
    "results_dense_final = dense_final.evaluate(test_images, test_labels)"
   ]
  },
  {
   "cell_type": "code",
   "execution_count": 25,
   "metadata": {},
   "outputs": [
    {
     "data": {
      "text/plain": [
       "[0.6057185123443604, 0.8128]"
      ]
     },
     "execution_count": 25,
     "metadata": {},
     "output_type": "execute_result"
    }
   ],
   "source": [
    "results_dense_final"
   ]
  },
  {
   "cell_type": "markdown",
   "metadata": {},
   "source": [
    "The test set classification accuracy is about 80%. Not bad, for a 10-fold classification and a fairly small data size. Let's see if we can do better with a convolutional net!"
   ]
  },
  {
   "cell_type": "markdown",
   "metadata": {},
   "source": [
    "# 3. A convolutional network"
   ]
  },
  {
   "cell_type": "markdown",
   "metadata": {},
   "source": [
    "## 3.1 Data pre-processing"
   ]
  },
  {
   "cell_type": "markdown",
   "metadata": {},
   "source": [
    "The data needs to be pre-processed differently. Let's start again from scratch."
   ]
  },
  {
   "cell_type": "code",
   "execution_count": 32,
   "metadata": {},
   "outputs": [],
   "source": [
    "train_images, train_labels = load_mnist( path = \"data_zalando/\",kind='train')\n",
    "test_images, test_labels = load_mnist(path = \"data_zalando/\", kind='t10k')\n",
    "\n",
    "import random\n",
    "index_train = range(0,59999)\n",
    "index_test= range(0,9999)\n",
    "\n",
    "random.seed(1109)\n",
    "train_sample = sample(index_train,  10000)\n",
    "test_sample = sample(index_test,  2500)\n",
    "\n",
    "train_images = train_images[train_sample]\n",
    "train_labels = train_labels[train_sample]\n",
    "test_images = test_images[test_sample]\n",
    "test_labels = test_labels[test_sample]"
   ]
  },
  {
   "cell_type": "markdown",
   "metadata": {},
   "source": [
    "Where the input layer for a dense neural network is fine to be $(n\\_obs, total\\_n\\_pixels)$, we want the training in data in convolutions to be $(n\\_obs, horiz\\_pixels, vertical\\_pixels, num\\_channels)$, because convolutions operate over 3D tensors, with two spatial axes (height and width) and a depth axis (also referred to as $channels$ axis). For an RGB image, the dimension of the depth axis is 3, because of the three color channels red, green, and blue. For a black-and-white picture the depth is 1 (levels of gray). We need to reshape train_images and test_images as follows:"
   ]
  },
  {
   "cell_type": "code",
   "execution_count": 33,
   "metadata": {},
   "outputs": [],
   "source": [
    "train_images = train_images.reshape((10000, 28, 28, 1))\n",
    "test_images = test_images.reshape((2500, 28, 28, 1))"
   ]
  },
  {
   "cell_type": "markdown",
   "metadata": {},
   "source": [
    "Remember that the image data is stored in an array of shape (10000, 784) of type uint8 with values in the [0, 255] interval. To serve as input for the convolutional model, you'll need to transform it again into a float32 array of the same shape, but with values between 0 and 1 instead of 0 and 255.  "
   ]
  },
  {
   "cell_type": "code",
   "execution_count": 34,
   "metadata": {},
   "outputs": [],
   "source": [
    "test_images = test_images.astype('float32') / 255\n",
    "train_images = train_images.astype('float32') / 255"
   ]
  },
  {
   "cell_type": "markdown",
   "metadata": {},
   "source": [
    "Let's perform one-hot encoding on the labels again! You can use `to_categorical` in `keras.utils` to do this."
   ]
  },
  {
   "cell_type": "code",
   "execution_count": 35,
   "metadata": {},
   "outputs": [],
   "source": [
    "from keras.utils import to_categorical\n",
    "train_labels = to_categorical(train_labels)\n",
    "test_labels = to_categorical(test_labels)"
   ]
  },
  {
   "cell_type": "code",
   "execution_count": 36,
   "metadata": {},
   "outputs": [
    {
     "data": {
      "text/plain": [
       "array([[0., 0., 0., ..., 0., 0., 0.],\n",
       "       [0., 0., 0., ..., 0., 0., 0.],\n",
       "       [0., 0., 1., ..., 0., 0., 0.],\n",
       "       ...,\n",
       "       [0., 0., 0., ..., 0., 1., 0.],\n",
       "       [0., 1., 0., ..., 0., 0., 0.],\n",
       "       [1., 0., 0., ..., 0., 0., 0.]], dtype=float32)"
      ]
     },
     "execution_count": 36,
     "metadata": {},
     "output_type": "execute_result"
    }
   ],
   "source": [
    "train_labels"
   ]
  },
  {
   "cell_type": "markdown",
   "metadata": {},
   "source": [
    "Again, we'll want to split the training set up in actual training data and validation data."
   ]
  },
  {
   "cell_type": "code",
   "execution_count": 37,
   "metadata": {},
   "outputs": [],
   "source": [
    "img_val = train_images[:2000]\n",
    "partial_img_train  = train_images[2000:]\n",
    "label_val = train_labels[:2000]\n",
    "partial_label_train = train_labels[2000:]"
   ]
  },
  {
   "cell_type": "markdown",
   "metadata": {},
   "source": [
    "Let's look at exactly what convolutions do. A convolution starts by sliding \"patches\" over the input. Patches are typically 3 x 3 or 5 x 5. Because of patching, the output width and height will differ from the input and depend on 2 things:\n",
    "- border effects\n",
    "- The use of strides\n"
   ]
  },
  {
   "cell_type": "markdown",
   "metadata": {},
   "source": [
    "The input shape for the first layer is (28, 28, 1), as previously discussed. For a convolutional layer, 2 additional decisions need to be made:\n",
    "- The depth of the convolutional layer, also the number of filters created by the convolution.\n",
    "- The dimensions of the so-called \"patches\" (generally 3 x 3 or 5 x 5).\n",
    "\n",
    "Using keras, this can be programmed as follows:\n",
    "`Conv2D(output_depth, (window_height, window_width))`"
   ]
  },
  {
   "cell_type": "markdown",
   "metadata": {},
   "source": [
    "## 3.2 Running the first model"
   ]
  },
  {
   "cell_type": "markdown",
   "metadata": {},
   "source": [
    "Use 3 convolutional layers (the first one with output depth 32, the latter two with output depth 64). Make sure all layers use 3x3 patches.\n",
    "\n",
    "Then, to downsample feature maps use maxpooling layers in between the convolution layers. Use the common 2 × 2 window and stride 2, in order to downsample the feature maps by a factor of 2. "
   ]
  },
  {
   "cell_type": "code",
   "execution_count": 38,
   "metadata": {},
   "outputs": [],
   "source": [
    "# A small convnet\n",
    "from keras import layers \n",
    "from keras import models\n",
    "\n",
    "conv = models.Sequential()\n",
    "conv.add(layers.Conv2D(32, (3, 3), activation='relu', input_shape=(28, 28, 1))) \n",
    "conv.add(layers.MaxPooling2D((2, 2)))\n",
    "conv.add(layers.Conv2D(64, (3, 3), activation='relu')) \n",
    "conv.add(layers.MaxPooling2D((2, 2)))\n",
    "conv.add(layers.Conv2D(64, (3, 3), activation='relu'))\n",
    "\n",
    "# you can use `padding = valid` and `padding = same`. Strides \\= 1 for convolutional layers are not very common"
   ]
  },
  {
   "cell_type": "markdown",
   "metadata": {},
   "source": [
    "When convolutional networks, generally, dense layers are added towards the end of the network. First, we need to flatten the 3D outputs to 1D, and then we can add a few dense layers. Let's add one hidden layer with 64 units and relu, and again a softmax layer towards the end of the exercise."
   ]
  },
  {
   "cell_type": "code",
   "execution_count": 39,
   "metadata": {},
   "outputs": [],
   "source": [
    "conv.add(layers.Flatten())\n",
    "conv.add(layers.Dense(64, activation='relu'))\n",
    "conv.add(layers.Dense(10, activation='softmax'))"
   ]
  },
  {
   "cell_type": "markdown",
   "metadata": {},
   "source": [
    "Note how the output layers change dimension. A summary of what exaclty is happening can be found using `.summary()`"
   ]
  },
  {
   "cell_type": "code",
   "execution_count": 40,
   "metadata": {},
   "outputs": [
    {
     "name": "stdout",
     "output_type": "stream",
     "text": [
      "_________________________________________________________________\n",
      "Layer (type)                 Output Shape              Param #   \n",
      "=================================================================\n",
      "conv2d_4 (Conv2D)            (None, 26, 26, 32)        320       \n",
      "_________________________________________________________________\n",
      "max_pooling2d_3 (MaxPooling2 (None, 13, 13, 32)        0         \n",
      "_________________________________________________________________\n",
      "conv2d_5 (Conv2D)            (None, 11, 11, 64)        18496     \n",
      "_________________________________________________________________\n",
      "max_pooling2d_4 (MaxPooling2 (None, 5, 5, 64)          0         \n",
      "_________________________________________________________________\n",
      "conv2d_6 (Conv2D)            (None, 3, 3, 64)          36928     \n",
      "_________________________________________________________________\n",
      "flatten_2 (Flatten)          (None, 576)               0         \n",
      "_________________________________________________________________\n",
      "dense_9 (Dense)              (None, 64)                36928     \n",
      "_________________________________________________________________\n",
      "dense_10 (Dense)             (None, 10)                650       \n",
      "=================================================================\n",
      "Total params: 93,322\n",
      "Trainable params: 93,322\n",
      "Non-trainable params: 0\n",
      "_________________________________________________________________\n"
     ]
    }
   ],
   "source": [
    "conv.summary()"
   ]
  },
  {
   "cell_type": "markdown",
   "metadata": {},
   "source": [
    "Let's run this model, using 30 epochs and a batch size of 64. Use both the train data and the validation data in the model."
   ]
  },
  {
   "cell_type": "code",
   "execution_count": 41,
   "metadata": {},
   "outputs": [
    {
     "name": "stdout",
     "output_type": "stream",
     "text": [
      "Train on 8000 samples, validate on 2000 samples\n",
      "Epoch 1/30\n",
      "8000/8000 [==============================] - 8s 1ms/step - loss: 0.9952 - acc: 0.6306 - val_loss: 0.6214 - val_acc: 0.7760\n",
      "Epoch 2/30\n",
      "8000/8000 [==============================] - 9s 1ms/step - loss: 0.6132 - acc: 0.7679 - val_loss: 0.5481 - val_acc: 0.8030\n",
      "Epoch 3/30\n",
      "8000/8000 [==============================] - 7s 836us/step - loss: 0.5073 - acc: 0.8094 - val_loss: 0.4948 - val_acc: 0.8250\n",
      "Epoch 4/30\n",
      "8000/8000 [==============================] - 6s 743us/step - loss: 0.4483 - acc: 0.8346 - val_loss: 0.4365 - val_acc: 0.8425\n",
      "Epoch 5/30\n",
      "8000/8000 [==============================] - 7s 859us/step - loss: 0.4019 - acc: 0.8531 - val_loss: 0.4420 - val_acc: 0.8490\n",
      "Epoch 6/30\n",
      "8000/8000 [==============================] - 6s 756us/step - loss: 0.3656 - acc: 0.8660 - val_loss: 0.3875 - val_acc: 0.8650\n",
      "Epoch 7/30\n",
      "8000/8000 [==============================] - 6s 730us/step - loss: 0.3390 - acc: 0.8743 - val_loss: 0.3741 - val_acc: 0.8670\n",
      "Epoch 8/30\n",
      "8000/8000 [==============================] - 6s 776us/step - loss: 0.3137 - acc: 0.8830 - val_loss: 0.3970 - val_acc: 0.8640\n",
      "Epoch 9/30\n",
      "8000/8000 [==============================] - 6s 725us/step - loss: 0.2890 - acc: 0.8939 - val_loss: 0.4302 - val_acc: 0.8470\n",
      "Epoch 10/30\n",
      "8000/8000 [==============================] - 6s 756us/step - loss: 0.2713 - acc: 0.9019 - val_loss: 0.3555 - val_acc: 0.8795\n",
      "Epoch 11/30\n",
      "8000/8000 [==============================] - 5s 638us/step - loss: 0.2541 - acc: 0.9068 - val_loss: 0.3639 - val_acc: 0.8755\n",
      "Epoch 12/30\n",
      "8000/8000 [==============================] - 6s 706us/step - loss: 0.2374 - acc: 0.9105 - val_loss: 0.3603 - val_acc: 0.8770\n",
      "Epoch 13/30\n",
      "8000/8000 [==============================] - 5s 679us/step - loss: 0.2194 - acc: 0.9183 - val_loss: 0.3737 - val_acc: 0.8790\n",
      "Epoch 14/30\n",
      "8000/8000 [==============================] - 5s 654us/step - loss: 0.2041 - acc: 0.9227 - val_loss: 0.3734 - val_acc: 0.8775\n",
      "Epoch 15/30\n",
      "8000/8000 [==============================] - 5s 654us/step - loss: 0.1893 - acc: 0.9316 - val_loss: 0.3809 - val_acc: 0.8695\n",
      "Epoch 16/30\n",
      "8000/8000 [==============================] - 5s 656us/step - loss: 0.1718 - acc: 0.9396 - val_loss: 0.3896 - val_acc: 0.8680\n",
      "Epoch 17/30\n",
      "8000/8000 [==============================] - 5s 639us/step - loss: 0.1583 - acc: 0.9407 - val_loss: 0.4164 - val_acc: 0.8680\n",
      "Epoch 18/30\n",
      "8000/8000 [==============================] - 5s 651us/step - loss: 0.1486 - acc: 0.9455 - val_loss: 0.4061 - val_acc: 0.8655\n",
      "Epoch 19/30\n",
      "8000/8000 [==============================] - 5s 633us/step - loss: 0.1342 - acc: 0.9490 - val_loss: 0.3987 - val_acc: 0.8775\n",
      "Epoch 20/30\n",
      "8000/8000 [==============================] - 5s 645us/step - loss: 0.1205 - acc: 0.9553 - val_loss: 0.4320 - val_acc: 0.8815\n",
      "Epoch 21/30\n",
      "8000/8000 [==============================] - 5s 649us/step - loss: 0.1120 - acc: 0.9621 - val_loss: 0.4126 - val_acc: 0.8820\n",
      "Epoch 22/30\n",
      "8000/8000 [==============================] - 5s 643us/step - loss: 0.1007 - acc: 0.9620 - val_loss: 0.4504 - val_acc: 0.8695\n",
      "Epoch 23/30\n",
      "8000/8000 [==============================] - 5s 632us/step - loss: 0.0928 - acc: 0.9675 - val_loss: 0.4640 - val_acc: 0.8760\n",
      "Epoch 24/30\n",
      "8000/8000 [==============================] - 5s 645us/step - loss: 0.0849 - acc: 0.9700 - val_loss: 0.4930 - val_acc: 0.8760\n",
      "Epoch 25/30\n",
      "8000/8000 [==============================] - 6s 701us/step - loss: 0.0791 - acc: 0.9704 - val_loss: 0.5387 - val_acc: 0.8680\n",
      "Epoch 26/30\n",
      "8000/8000 [==============================] - 5s 640us/step - loss: 0.0713 - acc: 0.9739 - val_loss: 0.4981 - val_acc: 0.8785\n",
      "Epoch 27/30\n",
      "8000/8000 [==============================] - 5s 637us/step - loss: 0.0656 - acc: 0.9765 - val_loss: 0.5181 - val_acc: 0.8820\n",
      "Epoch 28/30\n",
      "8000/8000 [==============================] - 5s 631us/step - loss: 0.0604 - acc: 0.9795 - val_loss: 0.5694 - val_acc: 0.8785\n",
      "Epoch 29/30\n",
      "8000/8000 [==============================] - 5s 647us/step - loss: 0.0563 - acc: 0.9795 - val_loss: 0.5620 - val_acc: 0.8770\n",
      "Epoch 30/30\n",
      "8000/8000 [==============================] - 5s 649us/step - loss: 0.0490 - acc: 0.9819 - val_loss: 0.5993 - val_acc: 0.8770\n"
     ]
    }
   ],
   "source": [
    "conv.compile(optimizer='rmsprop',\n",
    "              loss='categorical_crossentropy',\n",
    "              metrics=['accuracy'])\n",
    "conv_fit = conv.fit(partial_img_train, \n",
    "                      partial_label_train, \n",
    "                      epochs=30, \n",
    "                      batch_size=64,\n",
    "                      validation_data=(img_val, label_val))"
   ]
  },
  {
   "cell_type": "markdown",
   "metadata": {},
   "source": [
    "Let's plot the evolution of the training versus validation loss along the epochs again."
   ]
  },
  {
   "cell_type": "code",
   "execution_count": 42,
   "metadata": {},
   "outputs": [
    {
     "data": {
      "image/png": "[encoded data removed]",
      "text/plain": [
       "<matplotlib.figure.Figure at 0x18291946a0>"
      ]
     },
     "metadata": {},
     "output_type": "display_data"
    }
   ],
   "source": [
    "plt.clf()\n",
    "hist_conv = conv_fit.history\n",
    "loss_values = hist_conv['loss']\n",
    "val_loss_values = hist_conv['val_loss']\n",
    "\n",
    "epochs = range(1, len(loss_values) + 1)\n",
    "plt.plot(epochs, loss_values, 'g.', label='Training loss')\n",
    "plt.plot(epochs, val_loss_values, 'g', label='Validation loss')\n",
    "\n",
    "plt.title('Training and validation loss')\n",
    "plt.xlabel('Epochs')\n",
    "plt.ylabel('Loss')\n",
    "plt.legend()\n",
    "plt.show()"
   ]
  },
  {
   "cell_type": "markdown",
   "metadata": {},
   "source": [
    "Let's plot the evolution of the training versus validation loss along the epochs again."
   ]
  },
  {
   "cell_type": "code",
   "execution_count": 43,
   "metadata": {},
   "outputs": [
    {
     "data": {
      "image/png": "[encoded data removed]",
      "text/plain": [
       "<matplotlib.figure.Figure at 0x18291e1ef0>"
      ]
     },
     "metadata": {},
     "output_type": "display_data"
    }
   ],
   "source": [
    "plt.clf()\n",
    "\n",
    "acc_values = hist_conv['acc'] \n",
    "val_acc_values = hist_conv['val_acc']\n",
    "\n",
    "plt.plot(epochs, acc_values, 'r.', label='Training acc')\n",
    "plt.plot(epochs, val_acc_values, 'r', label='Validation acc')\n",
    "plt.title('Training and validation accuracy')\n",
    "plt.xlabel('Epochs')\n",
    "plt.ylabel('Loss')\n",
    "plt.legend()\n",
    "plt.show()"
   ]
  },
  {
   "cell_type": "markdown",
   "metadata": {},
   "source": [
    "The validation accuracy and loss seem to be fairly volatile again, but as we move along the epochs, the validation loss definitely goes up. Here, seems appropriate to stop after about ~14 epochs. Let's retrain the entire model again."
   ]
  },
  {
   "cell_type": "code",
   "execution_count": 44,
   "metadata": {},
   "outputs": [
    {
     "name": "stdout",
     "output_type": "stream",
     "text": [
      "Train on 8000 samples, validate on 2000 samples\n",
      "Epoch 1/14\n",
      "8000/8000 [==============================] - 6s 758us/step - loss: 0.9754 - acc: 0.6422 - val_loss: 0.6152 - val_acc: 0.7680\n",
      "Epoch 2/14\n",
      "8000/8000 [==============================] - 6s 736us/step - loss: 0.6019 - acc: 0.7710 - val_loss: 0.4983 - val_acc: 0.8165\n",
      "Epoch 3/14\n",
      "8000/8000 [==============================] - 5s 659us/step - loss: 0.5006 - acc: 0.8144 - val_loss: 0.4321 - val_acc: 0.8445\n",
      "Epoch 4/14\n",
      "8000/8000 [==============================] - 5s 635us/step - loss: 0.4390 - acc: 0.8380 - val_loss: 0.5052 - val_acc: 0.8125\n",
      "Epoch 5/14\n",
      "8000/8000 [==============================] - 5s 655us/step - loss: 0.3924 - acc: 0.8528 - val_loss: 0.3909 - val_acc: 0.8615\n",
      "Epoch 6/14\n",
      "8000/8000 [==============================] - 6s 689us/step - loss: 0.3623 - acc: 0.8672 - val_loss: 0.3842 - val_acc: 0.8645\n",
      "Epoch 7/14\n",
      "8000/8000 [==============================] - 5s 638us/step - loss: 0.3365 - acc: 0.8779 - val_loss: 0.4224 - val_acc: 0.8480\n",
      "Epoch 8/14\n",
      "8000/8000 [==============================] - 5s 643us/step - loss: 0.3111 - acc: 0.8859 - val_loss: 0.3859 - val_acc: 0.8570\n",
      "Epoch 9/14\n",
      "8000/8000 [==============================] - 5s 621us/step - loss: 0.2842 - acc: 0.8974 - val_loss: 0.3764 - val_acc: 0.8640\n",
      "Epoch 10/14\n",
      "8000/8000 [==============================] - 5s 618us/step - loss: 0.2678 - acc: 0.9014 - val_loss: 0.3636 - val_acc: 0.8760\n",
      "Epoch 11/14\n",
      "8000/8000 [==============================] - 5s 619us/step - loss: 0.2480 - acc: 0.9090 - val_loss: 0.4844 - val_acc: 0.8250\n",
      "Epoch 12/14\n",
      "8000/8000 [==============================] - 5s 615us/step - loss: 0.2341 - acc: 0.9140 - val_loss: 0.3581 - val_acc: 0.8760\n",
      "Epoch 13/14\n",
      "8000/8000 [==============================] - 5s 633us/step - loss: 0.2117 - acc: 0.9203 - val_loss: 0.3710 - val_acc: 0.8775\n",
      "Epoch 14/14\n",
      "8000/8000 [==============================] - 5s 626us/step - loss: 0.2053 - acc: 0.9256 - val_loss: 0.3687 - val_acc: 0.8725\n"
     ]
    }
   ],
   "source": [
    "conv_final = models.Sequential()\n",
    "conv_final.add(layers.Conv2D(32, (3, 3), activation='relu', input_shape=(28, 28, 1))) \n",
    "conv_final.add(layers.MaxPooling2D((2, 2)))\n",
    "conv_final.add(layers.Conv2D(64, (3, 3), activation='relu')) \n",
    "conv_final.add(layers.MaxPooling2D((2, 2)))\n",
    "conv_final.add(layers.Conv2D(64, (3, 3), activation='relu'))\n",
    "\n",
    "conv_final.add(layers.Flatten())\n",
    "conv_final.add(layers.Dense(64, activation='relu'))\n",
    "conv_final.add(layers.Dense(10, activation='softmax'))\n",
    "\n",
    "conv_final.compile(optimizer='rmsprop',\n",
    "              loss='categorical_crossentropy',\n",
    "              metrics=['accuracy'])\n",
    "conv_final_fit = conv_final.fit(partial_img_train, \n",
    "                      partial_label_train, \n",
    "                      epochs=14, \n",
    "                      batch_size=64,\n",
    "                      validation_data=(img_val, label_val))"
   ]
  },
  {
   "cell_type": "code",
   "execution_count": 45,
   "metadata": {},
   "outputs": [
    {
     "name": "stdout",
     "output_type": "stream",
     "text": [
      "2500/2500 [==============================] - 1s 209us/step\n"
     ]
    }
   ],
   "source": [
    "results_conv_final = conv_final.evaluate(test_images, test_labels)"
   ]
  },
  {
   "cell_type": "code",
   "execution_count": 46,
   "metadata": {},
   "outputs": [
    {
     "data": {
      "text/plain": [
       "[0.4126802632331848, 0.8656]"
      ]
     },
     "execution_count": 46,
     "metadata": {},
     "output_type": "execute_result"
    }
   ],
   "source": [
    "results_conv_final"
   ]
  },
  {
   "cell_type": "markdown",
   "metadata": {},
   "source": [
    "The test set classification accuracy is 86.3%. Coming from 83.6 in the sequential model this is about a 3% improvement. For bigger data sets this could even be more! Let's see if we can still improve our model!"
   ]
  },
  {
   "cell_type": "markdown",
   "metadata": {},
   "source": [
    "## 3.3 Using drop-out regularization"
   ]
  },
  {
   "cell_type": "markdown",
   "metadata": {},
   "source": [
    "Note how we \"early stopping\" to fight overfitted models. Recall that there is another method, dropout regularization, to counter overfitting. Rerun our `conv` model, yet with a dropout layer right before the densely connected classifier, with parameter 0.5."
   ]
  },
  {
   "cell_type": "code",
   "execution_count": 55,
   "metadata": {},
   "outputs": [
    {
     "name": "stdout",
     "output_type": "stream",
     "text": [
      "Train on 8000 samples, validate on 2000 samples\n",
      "Epoch 1/30\n",
      "8000/8000 [==============================] - 7s 909us/step - loss: 1.0754 - acc: 0.6112 - val_loss: 0.6552 - val_acc: 0.7450\n",
      "Epoch 2/30\n",
      "8000/8000 [==============================] - 7s 834us/step - loss: 0.6687 - acc: 0.7450 - val_loss: 0.5322 - val_acc: 0.8140\n",
      "Epoch 3/30\n",
      "8000/8000 [==============================] - 6s 746us/step - loss: 0.5807 - acc: 0.7810 - val_loss: 0.4545 - val_acc: 0.8325\n",
      "Epoch 4/30\n",
      "8000/8000 [==============================] - 6s 744us/step - loss: 0.5245 - acc: 0.8063 - val_loss: 0.4922 - val_acc: 0.8000\n",
      "Epoch 5/30\n",
      "8000/8000 [==============================] - 6s 739us/step - loss: 0.4776 - acc: 0.8296 - val_loss: 0.4431 - val_acc: 0.8360\n",
      "Epoch 6/30\n",
      "8000/8000 [==============================] - 6s 738us/step - loss: 0.4481 - acc: 0.8351 - val_loss: 0.3874 - val_acc: 0.8630\n",
      "Epoch 7/30\n",
      "8000/8000 [==============================] - 5s 655us/step - loss: 0.4256 - acc: 0.8434 - val_loss: 0.3756 - val_acc: 0.8710\n",
      "Epoch 8/30\n",
      "8000/8000 [==============================] - 5s 654us/step - loss: 0.3975 - acc: 0.8582 - val_loss: 0.3598 - val_acc: 0.8735\n",
      "Epoch 9/30\n",
      "8000/8000 [==============================] - 5s 679us/step - loss: 0.3750 - acc: 0.8660 - val_loss: 0.3546 - val_acc: 0.8685\n",
      "Epoch 10/30\n",
      "8000/8000 [==============================] - 5s 659us/step - loss: 0.3625 - acc: 0.8694 - val_loss: 0.3447 - val_acc: 0.8680\n",
      "Epoch 11/30\n",
      "8000/8000 [==============================] - 5s 657us/step - loss: 0.3448 - acc: 0.8730 - val_loss: 0.3434 - val_acc: 0.8700\n",
      "Epoch 12/30\n",
      "8000/8000 [==============================] - 5s 658us/step - loss: 0.3254 - acc: 0.8820 - val_loss: 0.3910 - val_acc: 0.8510\n",
      "Epoch 13/30\n",
      "8000/8000 [==============================] - 5s 666us/step - loss: 0.3167 - acc: 0.8852 - val_loss: 0.3460 - val_acc: 0.8695\n",
      "Epoch 14/30\n",
      "8000/8000 [==============================] - 5s 666us/step - loss: 0.3026 - acc: 0.8911 - val_loss: 0.3184 - val_acc: 0.8780\n",
      "Epoch 15/30\n",
      "8000/8000 [==============================] - 5s 662us/step - loss: 0.2950 - acc: 0.8930 - val_loss: 0.3379 - val_acc: 0.8835\n",
      "Epoch 16/30\n",
      "8000/8000 [==============================] - 5s 652us/step - loss: 0.2811 - acc: 0.8976 - val_loss: 0.3375 - val_acc: 0.8790\n",
      "Epoch 17/30\n",
      "8000/8000 [==============================] - 5s 650us/step - loss: 0.2791 - acc: 0.8990 - val_loss: 0.3032 - val_acc: 0.8850\n",
      "Epoch 18/30\n",
      "8000/8000 [==============================] - 5s 672us/step - loss: 0.2584 - acc: 0.9071 - val_loss: 0.3387 - val_acc: 0.8790\n",
      "Epoch 19/30\n",
      "8000/8000 [==============================] - 5s 655us/step - loss: 0.2484 - acc: 0.9111 - val_loss: 0.3126 - val_acc: 0.8815\n",
      "Epoch 20/30\n",
      "8000/8000 [==============================] - 5s 659us/step - loss: 0.2399 - acc: 0.9120 - val_loss: 0.3206 - val_acc: 0.8805\n",
      "Epoch 21/30\n",
      "8000/8000 [==============================] - 5s 673us/step - loss: 0.2370 - acc: 0.9153 - val_loss: 0.3054 - val_acc: 0.8895\n",
      "Epoch 22/30\n",
      "8000/8000 [==============================] - 5s 663us/step - loss: 0.2272 - acc: 0.9128 - val_loss: 0.3118 - val_acc: 0.8845\n",
      "Epoch 23/30\n",
      "8000/8000 [==============================] - 5s 665us/step - loss: 0.2119 - acc: 0.9224 - val_loss: 0.3075 - val_acc: 0.8880\n",
      "Epoch 24/30\n",
      "8000/8000 [==============================] - 5s 664us/step - loss: 0.2151 - acc: 0.9189 - val_loss: 0.2953 - val_acc: 0.8895\n",
      "Epoch 25/30\n",
      "8000/8000 [==============================] - 5s 659us/step - loss: 0.2038 - acc: 0.9265 - val_loss: 0.3253 - val_acc: 0.8875\n",
      "Epoch 26/30\n",
      "8000/8000 [==============================] - 5s 669us/step - loss: 0.1955 - acc: 0.9300 - val_loss: 0.3134 - val_acc: 0.8910\n",
      "Epoch 27/30\n",
      "8000/8000 [==============================] - 5s 664us/step - loss: 0.1896 - acc: 0.9299 - val_loss: 0.3182 - val_acc: 0.8905\n",
      "Epoch 28/30\n",
      "8000/8000 [==============================] - 5s 670us/step - loss: 0.1833 - acc: 0.9300 - val_loss: 0.3087 - val_acc: 0.9000\n",
      "Epoch 29/30\n",
      "8000/8000 [==============================] - 5s 668us/step - loss: 0.1718 - acc: 0.9334 - val_loss: 0.3587 - val_acc: 0.8815\n",
      "Epoch 30/30\n",
      "8000/8000 [==============================] - 5s 667us/step - loss: 0.1717 - acc: 0.9335 - val_loss: 0.3260 - val_acc: 0.8925\n"
     ]
    }
   ],
   "source": [
    "conv_drop = models.Sequential()\n",
    "conv_drop.add(layers.Conv2D(32, (3, 3), activation='relu', input_shape=(28, 28, 1))) \n",
    "conv_drop.add(layers.MaxPooling2D((2, 2)))\n",
    "conv_drop.add(layers.Conv2D(64, (3, 3), activation='relu')) \n",
    "conv_drop.add(layers.MaxPooling2D((2, 2)))\n",
    "conv_drop.add(layers.Conv2D(64, (3, 3), activation='relu'))\n",
    "\n",
    "conv_drop.add(layers.Flatten())\n",
    "conv_drop.add(layers.Dropout(0.5))\n",
    "conv_drop.add(layers.Dense(64, activation='relu'))\n",
    "conv_drop.add(layers.Dense(10, activation='softmax'))\n",
    "\n",
    "conv_drop.compile(optimizer='rmsprop',\n",
    "              loss='categorical_crossentropy',\n",
    "              metrics=['accuracy'])\n",
    "conv_drop_fit = conv_drop.fit(partial_img_train, \n",
    "                      partial_label_train, \n",
    "                      epochs=30, \n",
    "                      batch_size=64,\n",
    "                      validation_data=(img_val, label_val))"
   ]
  },
  {
   "cell_type": "code",
   "execution_count": 56,
   "metadata": {},
   "outputs": [
    {
     "data": {
      "image/png": "[encoded data removed]",
      "text/plain": [
       "<matplotlib.figure.Figure at 0x1824d2f550>"
      ]
     },
     "metadata": {},
     "output_type": "display_data"
    }
   ],
   "source": [
    "plt.clf()\n",
    "hist_conv_drop = conv_drop_fit.history\n",
    "loss_values = hist_conv_drop['loss']\n",
    "val_loss_values = hist_conv_drop['val_loss']\n",
    "\n",
    "epochs = range(1, len(loss_values) + 1)\n",
    "plt.plot(epochs, loss_values, 'g.', label='Training loss')\n",
    "plt.plot(epochs, val_loss_values, 'g', label='Validation loss')\n",
    "\n",
    "plt.title('Training and validation loss')\n",
    "plt.xlabel('Epochs')\n",
    "plt.ylabel('Loss')\n",
    "plt.legend()\n",
    "plt.show()"
   ]
  },
  {
   "cell_type": "code",
   "execution_count": 57,
   "metadata": {},
   "outputs": [
    {
     "data": {
      "image/png": "[encoded data removed]",
      "text/plain": [
       "<matplotlib.figure.Figure at 0x181e5c78d0>"
      ]
     },
     "metadata": {},
     "output_type": "display_data"
    }
   ],
   "source": [
    "plt.clf()\n",
    "\n",
    "acc_values = hist_conv_drop['acc'] \n",
    "val_acc_values = hist_conv_drop['val_acc']\n",
    "\n",
    "plt.plot(epochs, acc_values, 'r.', label='Training acc')\n",
    "plt.plot(epochs, val_acc_values, 'r', label='Validation acc')\n",
    "plt.title('Training and validation accuracy')\n",
    "plt.xlabel('Epochs')\n",
    "plt.ylabel('Loss')\n",
    "plt.legend()\n",
    "plt.show()"
   ]
  },
  {
   "cell_type": "markdown",
   "metadata": {},
   "source": [
    "Note how the dropout regularization made the curves much smoother! Additionally, the respective accuracies and losses don't diverge to the extent they did before. Let's stop after 20 epochs."
   ]
  },
  {
   "cell_type": "code",
   "execution_count": 58,
   "metadata": {},
   "outputs": [
    {
     "name": "stdout",
     "output_type": "stream",
     "text": [
      "Train on 8000 samples, validate on 2000 samples\n",
      "Epoch 1/20\n",
      "8000/8000 [==============================] - 6s 741us/step - loss: 1.1100 - acc: 0.5909 - val_loss: 0.6753 - val_acc: 0.7325\n",
      "Epoch 2/20\n",
      "8000/8000 [==============================] - 5s 658us/step - loss: 0.6943 - acc: 0.7382 - val_loss: 0.5443 - val_acc: 0.7950\n",
      "Epoch 3/20\n",
      "8000/8000 [==============================] - 5s 654us/step - loss: 0.5975 - acc: 0.7741 - val_loss: 0.5270 - val_acc: 0.8005\n",
      "Epoch 4/20\n",
      "8000/8000 [==============================] - 5s 652us/step - loss: 0.5402 - acc: 0.7947 - val_loss: 0.4546 - val_acc: 0.8305\n",
      "Epoch 5/20\n",
      "8000/8000 [==============================] - 5s 653us/step - loss: 0.4898 - acc: 0.8151 - val_loss: 0.4465 - val_acc: 0.8350\n",
      "Epoch 6/20\n",
      "8000/8000 [==============================] - 5s 655us/step - loss: 0.4654 - acc: 0.8305 - val_loss: 0.4261 - val_acc: 0.8470\n",
      "Epoch 7/20\n",
      "8000/8000 [==============================] - 6s 717us/step - loss: 0.4282 - acc: 0.8385 - val_loss: 0.3907 - val_acc: 0.8590\n",
      "Epoch 8/20\n",
      "8000/8000 [==============================] - 6s 697us/step - loss: 0.3991 - acc: 0.8531 - val_loss: 0.3764 - val_acc: 0.8645\n",
      "Epoch 9/20\n",
      "8000/8000 [==============================] - 5s 677us/step - loss: 0.3889 - acc: 0.8559 - val_loss: 0.3785 - val_acc: 0.8635\n",
      "Epoch 10/20\n",
      "8000/8000 [==============================] - 5s 660us/step - loss: 0.3743 - acc: 0.8610 - val_loss: 0.3783 - val_acc: 0.8585\n",
      "Epoch 11/20\n",
      "8000/8000 [==============================] - 5s 670us/step - loss: 0.3544 - acc: 0.8704 - val_loss: 0.3494 - val_acc: 0.8720\n",
      "Epoch 12/20\n",
      "8000/8000 [==============================] - 5s 670us/step - loss: 0.3369 - acc: 0.8775 - val_loss: 0.3655 - val_acc: 0.8610\n",
      "Epoch 13/20\n",
      "8000/8000 [==============================] - 5s 674us/step - loss: 0.3262 - acc: 0.8820 - val_loss: 0.3434 - val_acc: 0.8775\n",
      "Epoch 14/20\n",
      "8000/8000 [==============================] - 6s 704us/step - loss: 0.3097 - acc: 0.8858 - val_loss: 0.3515 - val_acc: 0.8725\n",
      "Epoch 15/20\n",
      "8000/8000 [==============================] - 6s 798us/step - loss: 0.3066 - acc: 0.8918 - val_loss: 0.3375 - val_acc: 0.8835\n",
      "Epoch 16/20\n",
      "8000/8000 [==============================] - 6s 788us/step - loss: 0.2880 - acc: 0.8937 - val_loss: 0.3607 - val_acc: 0.8755\n",
      "Epoch 17/20\n",
      "8000/8000 [==============================] - 6s 766us/step - loss: 0.2820 - acc: 0.8935 - val_loss: 0.3468 - val_acc: 0.8805\n",
      "Epoch 18/20\n",
      "8000/8000 [==============================] - 6s 776us/step - loss: 0.2729 - acc: 0.8980 - val_loss: 0.3273 - val_acc: 0.8875\n",
      "Epoch 19/20\n",
      "8000/8000 [==============================] - 6s 696us/step - loss: 0.2637 - acc: 0.9029 - val_loss: 0.3221 - val_acc: 0.8820\n",
      "Epoch 20/20\n",
      "8000/8000 [==============================] - 6s 737us/step - loss: 0.2477 - acc: 0.9066 - val_loss: 0.3368 - val_acc: 0.8810\n"
     ]
    }
   ],
   "source": [
    "conv_drop_final = models.Sequential()\n",
    "conv_drop_final.add(layers.Conv2D(32, (3, 3), activation='relu', input_shape=(28, 28, 1))) \n",
    "conv_drop_final.add(layers.MaxPooling2D((2, 2)))\n",
    "conv_drop_final.add(layers.Conv2D(64, (3, 3), activation='relu')) \n",
    "conv_drop_final.add(layers.MaxPooling2D((2, 2)))\n",
    "conv_drop_final.add(layers.Conv2D(64, (3, 3), activation='relu'))\n",
    "\n",
    "conv_drop_final.add(layers.Flatten())\n",
    "conv_drop_final.add(layers.Dropout(0.5))\n",
    "conv_drop_final.add(layers.Dense(64, activation='relu'))\n",
    "conv_drop_final.add(layers.Dense(10, activation='softmax'))\n",
    "\n",
    "conv_drop_final.compile(optimizer='rmsprop',\n",
    "              loss='categorical_crossentropy',\n",
    "              metrics=['accuracy'])\n",
    "conv_drop_final_fit = conv_drop_final.fit(partial_img_train, \n",
    "                      partial_label_train, \n",
    "                      epochs=20, \n",
    "                      batch_size=64,\n",
    "                      validation_data=(img_val, label_val))"
   ]
  },
  {
   "cell_type": "code",
   "execution_count": 59,
   "metadata": {},
   "outputs": [
    {
     "name": "stdout",
     "output_type": "stream",
     "text": [
      "2500/2500 [==============================] - 0s 198us/step\n"
     ]
    }
   ],
   "source": [
    "results = conv_drop_final.evaluate(test_images, test_labels)"
   ]
  },
  {
   "cell_type": "code",
   "execution_count": 60,
   "metadata": {},
   "outputs": [
    {
     "data": {
      "text/plain": [
       "[0.38245946497917177, 0.8696]"
      ]
     },
     "execution_count": 60,
     "metadata": {},
     "output_type": "execute_result"
    }
   ],
   "source": [
    "results"
   ]
  },
  {
   "cell_type": "markdown",
   "metadata": {},
   "source": [
    "Look at this! You were able to increase the test set accuracy by almost 1% (being 86.3% for the model without dropout regularization)."
   ]
  },
  {
   "cell_type": "markdown",
   "metadata": {},
   "source": [
    "## 3.4 Making predictions"
   ]
  },
  {
   "cell_type": "code",
   "execution_count": 61,
   "metadata": {},
   "outputs": [],
   "source": [
    "predictions = conv_drop_final.predict(test_images)\n",
    "index_test = 2"
   ]
  },
  {
   "cell_type": "code",
   "execution_count": 62,
   "metadata": {},
   "outputs": [
    {
     "data": {
      "text/plain": [
       "array([6.9590667e-03, 3.6888793e-03, 2.6836107e-03, 8.8389695e-01,\n",
       "       9.5924556e-02, 3.8588805e-06, 6.6043204e-03, 4.6669038e-06,\n",
       "       2.2339943e-04, 1.0749557e-05], dtype=float32)"
      ]
     },
     "execution_count": 62,
     "metadata": {},
     "output_type": "execute_result"
    }
   ],
   "source": [
    "predictions[index_test]"
   ]
  },
  {
   "cell_type": "code",
   "execution_count": 63,
   "metadata": {},
   "outputs": [
    {
     "data": {
      "text/plain": [
       "array([0., 0., 0., 0., 1., 0., 0., 0., 0., 0.], dtype=float32)"
      ]
     },
     "execution_count": 63,
     "metadata": {},
     "output_type": "execute_result"
    }
   ],
   "source": [
    "test_labels[index_test]"
   ]
  },
  {
   "cell_type": "code",
   "execution_count": 64,
   "metadata": {},
   "outputs": [
    {
     "data": {
      "image/png": "[encoded data removed]",
      "text/plain": [
       "<matplotlib.figure.Figure at 0x1821673278>"
      ]
     },
     "metadata": {},
     "output_type": "display_data"
    },
    {
     "data": {
      "text/plain": [
       "'Coat'"
      ]
     },
     "execution_count": 64,
     "metadata": {},
     "output_type": "execute_result"
    }
   ],
   "source": [
    "reshape= np.matrix.reshape(test_images[index_test],28,28)\n",
    "\n",
    "%matplotlib inline\n",
    "import matplotlib.pyplot as plt\n",
    "plt.imshow(reshape, cmap=plt.cm.binary)\n",
    "plt.show()\n",
    "\n",
    "encoded_test[index_test]"
   ]
  },
  {
   "cell_type": "markdown",
   "metadata": {},
   "source": [
    "This coat is incorrectly classified as a dress! Not really surprising, looking at it, right?"
   ]
  },
  {
   "cell_type": "markdown",
   "metadata": {},
   "source": [
    "## 3.5 Try tweaking the model yourself!"
   ]
  },
  {
   "cell_type": "markdown",
   "metadata": {},
   "source": [
    "The possibilities are literally endless!\n",
    "- add/remove layers\n",
    "- In some layers, change `padding = valid` and `padding = same`\n",
    "- change activation functions\n",
    "- change optimizer\n",
    "- change batch size\n",
    "- change patch dimensions (from 3 x 3 to 5 x 5)\n",
    "- If you have more time, try running everything on the bigger training set! Do results improve?"
   ]
  },
  {
   "cell_type": "markdown",
   "metadata": {},
   "source": [
    "## 3.6 Visualizations (WIP, maybe)"
   ]
  },
  {
   "cell_type": "code",
   "execution_count": 65,
   "metadata": {},
   "outputs": [
    {
     "data": {
      "image/png": "[encoded data removed]",
      "text/plain": [
       "<matplotlib.figure.Figure at 0x18252bf550>"
      ]
     },
     "metadata": {},
     "output_type": "display_data"
    },
    {
     "data": {
      "text/plain": [
       "'Shirt'"
      ]
     },
     "execution_count": 65,
     "metadata": {},
     "output_type": "execute_result"
    }
   ],
   "source": [
    "index_fill = 1219 # replace by any value between 0 and 9999\n",
    "\n",
    "reshape= np.matrix.reshape(train_images[index_fill],28,28)\n",
    "\n",
    "%matplotlib inline\n",
    "import matplotlib.pyplot as plt\n",
    "plt.imshow(reshape, cmap=plt.cm.binary)\n",
    "plt.show()\n",
    "\n",
    "encoded_train[index_fill]"
   ]
  },
  {
   "cell_type": "code",
   "execution_count": 66,
   "metadata": {},
   "outputs": [],
   "source": [
    "from keras import models\n",
    "layer_outputs = [layer.output for layer in conv_final.layers[:8]] \n",
    "activation_model = models.Model(inputs=conv_final.input, outputs=layer_outputs)"
   ]
  },
  {
   "cell_type": "code",
   "execution_count": 67,
   "metadata": {},
   "outputs": [],
   "source": [
    "interm_tensor = np.expand_dims(train_images[index_test], axis=0) \n",
    "interm_tensor /= 255"
   ]
  },
  {
   "cell_type": "code",
   "execution_count": 68,
   "metadata": {},
   "outputs": [
    {
     "data": {
      "text/plain": [
       "array([[[[0.0000000e+00],\n",
       "         [0.0000000e+00],\n",
       "         [0.0000000e+00],\n",
       "         [0.0000000e+00],\n",
       "         [0.0000000e+00],\n",
       "         [0.0000000e+00],\n",
       "         [0.0000000e+00],\n",
       "         [0.0000000e+00],\n",
       "         [1.4302192e-03],\n",
       "         [3.2141483e-03],\n",
       "         [3.0449827e-03],\n",
       "         [2.9527105e-03],\n",
       "         [3.1064975e-03],\n",
       "         [3.0296040e-03],\n",
       "         [3.0757401e-03],\n",
       "         [3.1987696e-03],\n",
       "         [3.1833909e-03],\n",
       "         [3.2602844e-03],\n",
       "         [3.3064208e-03],\n",
       "         [8.1507111e-04],\n",
       "         [0.0000000e+00],\n",
       "         [0.0000000e+00],\n",
       "         [0.0000000e+00],\n",
       "         [0.0000000e+00],\n",
       "         [0.0000000e+00],\n",
       "         [0.0000000e+00],\n",
       "         [0.0000000e+00],\n",
       "         [0.0000000e+00]],\n",
       "\n",
       "        [[0.0000000e+00],\n",
       "         [0.0000000e+00],\n",
       "         [0.0000000e+00],\n",
       "         [0.0000000e+00],\n",
       "         [0.0000000e+00],\n",
       "         [0.0000000e+00],\n",
       "         [0.0000000e+00],\n",
       "         [0.0000000e+00],\n",
       "         [3.1218762e-03],\n",
       "         [3.7062669e-03],\n",
       "         [3.5524799e-03],\n",
       "         [3.7062669e-03],\n",
       "         [3.2295270e-03],\n",
       "         [3.0911188e-03],\n",
       "         [3.0142253e-03],\n",
       "         [3.0296040e-03],\n",
       "         [3.4140716e-03],\n",
       "         [3.3525568e-03],\n",
       "         [3.6293734e-03],\n",
       "         [3.6601308e-03],\n",
       "         [0.0000000e+00],\n",
       "         [0.0000000e+00],\n",
       "         [1.5378702e-05],\n",
       "         [3.0757405e-05],\n",
       "         [0.0000000e+00],\n",
       "         [0.0000000e+00],\n",
       "         [0.0000000e+00],\n",
       "         [0.0000000e+00]],\n",
       "\n",
       "        [[0.0000000e+00],\n",
       "         [0.0000000e+00],\n",
       "         [0.0000000e+00],\n",
       "         [0.0000000e+00],\n",
       "         [0.0000000e+00],\n",
       "         [0.0000000e+00],\n",
       "         [0.0000000e+00],\n",
       "         [0.0000000e+00],\n",
       "         [2.8450596e-03],\n",
       "         [3.3679355e-03],\n",
       "         [3.1987696e-03],\n",
       "         [3.6908882e-03],\n",
       "         [3.7677817e-03],\n",
       "         [3.6139947e-03],\n",
       "         [3.4909651e-03],\n",
       "         [3.4448290e-03],\n",
       "         [3.1833909e-03],\n",
       "         [3.1987696e-03],\n",
       "         [3.2910421e-03],\n",
       "         [3.0449827e-03],\n",
       "         [0.0000000e+00],\n",
       "         [0.0000000e+00],\n",
       "         [3.0757405e-05],\n",
       "         [0.0000000e+00],\n",
       "         [0.0000000e+00],\n",
       "         [0.0000000e+00],\n",
       "         [0.0000000e+00],\n",
       "         [0.0000000e+00]],\n",
       "\n",
       "        [[0.0000000e+00],\n",
       "         [0.0000000e+00],\n",
       "         [0.0000000e+00],\n",
       "         [0.0000000e+00],\n",
       "         [0.0000000e+00],\n",
       "         [0.0000000e+00],\n",
       "         [0.0000000e+00],\n",
       "         [5.8439065e-04],\n",
       "         [3.2756634e-03],\n",
       "         [3.5371012e-03],\n",
       "         [3.3371781e-03],\n",
       "         [2.8604383e-03],\n",
       "         [3.7677817e-03],\n",
       "         [3.8446751e-03],\n",
       "         [3.7677817e-03],\n",
       "         [3.3986929e-03],\n",
       "         [2.9834679e-03],\n",
       "         [3.2910421e-03],\n",
       "         [3.2449057e-03],\n",
       "         [3.3217994e-03],\n",
       "         [1.7531719e-03],\n",
       "         [0.0000000e+00],\n",
       "         [0.0000000e+00],\n",
       "         [4.6136101e-05],\n",
       "         [1.5378702e-05],\n",
       "         [0.0000000e+00],\n",
       "         [0.0000000e+00],\n",
       "         [0.0000000e+00]],\n",
       "\n",
       "        [[0.0000000e+00],\n",
       "         [0.0000000e+00],\n",
       "         [0.0000000e+00],\n",
       "         [0.0000000e+00],\n",
       "         [7.6893506e-05],\n",
       "         [0.0000000e+00],\n",
       "         [2.1530181e-04],\n",
       "         [3.1218762e-03],\n",
       "         [3.0449827e-03],\n",
       "         [3.0757401e-03],\n",
       "         [3.0296040e-03],\n",
       "         [2.5990005e-03],\n",
       "         [3.5217225e-03],\n",
       "         [3.0142253e-03],\n",
       "         [3.0911188e-03],\n",
       "         [2.8911957e-03],\n",
       "         [2.6451366e-03],\n",
       "         [3.2602844e-03],\n",
       "         [3.0296040e-03],\n",
       "         [2.9988466e-03],\n",
       "         [3.4755864e-03],\n",
       "         [1.7531719e-03],\n",
       "         [0.0000000e+00],\n",
       "         [9.2272203e-05],\n",
       "         [0.0000000e+00],\n",
       "         [0.0000000e+00],\n",
       "         [0.0000000e+00],\n",
       "         [0.0000000e+00]],\n",
       "\n",
       "        [[0.0000000e+00],\n",
       "         [0.0000000e+00],\n",
       "         [0.0000000e+00],\n",
       "         [0.0000000e+00],\n",
       "         [9.2272203e-05],\n",
       "         [0.0000000e+00],\n",
       "         [2.6143792e-03],\n",
       "         [3.2910421e-03],\n",
       "         [2.9527105e-03],\n",
       "         [3.0449827e-03],\n",
       "         [2.7681661e-03],\n",
       "         [2.2606691e-03],\n",
       "         [3.0603614e-03],\n",
       "         [2.7527874e-03],\n",
       "         [3.1064975e-03],\n",
       "         [2.7374087e-03],\n",
       "         [2.2914265e-03],\n",
       "         [3.2141483e-03],\n",
       "         [2.9527105e-03],\n",
       "         [2.9988466e-03],\n",
       "         [3.1218762e-03],\n",
       "         [3.0757401e-03],\n",
       "         [0.0000000e+00],\n",
       "         [0.0000000e+00],\n",
       "         [3.0757405e-05],\n",
       "         [0.0000000e+00],\n",
       "         [0.0000000e+00],\n",
       "         [0.0000000e+00]],\n",
       "\n",
       "        [[0.0000000e+00],\n",
       "         [0.0000000e+00],\n",
       "         [0.0000000e+00],\n",
       "         [3.0757405e-05],\n",
       "         [0.0000000e+00],\n",
       "         [0.0000000e+00],\n",
       "         [3.0757401e-03],\n",
       "         [3.2141483e-03],\n",
       "         [3.0296040e-03],\n",
       "         [3.0296040e-03],\n",
       "         [2.8758170e-03],\n",
       "         [2.4144561e-03],\n",
       "         [3.1526336e-03],\n",
       "         [2.8296809e-03],\n",
       "         [3.0757401e-03],\n",
       "         [2.7066513e-03],\n",
       "         [2.1530183e-03],\n",
       "         [3.2449057e-03],\n",
       "         [2.8911957e-03],\n",
       "         [2.9988466e-03],\n",
       "         [3.2910421e-03],\n",
       "         [3.4448290e-03],\n",
       "         [1.3840831e-03],\n",
       "         [0.0000000e+00],\n",
       "         [0.0000000e+00],\n",
       "         [0.0000000e+00],\n",
       "         [0.0000000e+00],\n",
       "         [0.0000000e+00]],\n",
       "\n",
       "        [[0.0000000e+00],\n",
       "         [0.0000000e+00],\n",
       "         [0.0000000e+00],\n",
       "         [3.0757405e-05],\n",
       "         [0.0000000e+00],\n",
       "         [7.0742023e-04],\n",
       "         [3.3679355e-03],\n",
       "         [3.1680122e-03],\n",
       "         [3.0449827e-03],\n",
       "         [3.0603614e-03],\n",
       "         [2.8450596e-03],\n",
       "         [2.4298348e-03],\n",
       "         [3.0603614e-03],\n",
       "         [2.7835448e-03],\n",
       "         [3.0296040e-03],\n",
       "         [2.7220300e-03],\n",
       "         [2.0915035e-03],\n",
       "         [3.2141483e-03],\n",
       "         [2.8604383e-03],\n",
       "         [2.9834679e-03],\n",
       "         [3.3525568e-03],\n",
       "         [3.3371781e-03],\n",
       "         [2.3068052e-03],\n",
       "         [0.0000000e+00],\n",
       "         [0.0000000e+00],\n",
       "         [0.0000000e+00],\n",
       "         [0.0000000e+00],\n",
       "         [0.0000000e+00]],\n",
       "\n",
       "        [[0.0000000e+00],\n",
       "         [0.0000000e+00],\n",
       "         [0.0000000e+00],\n",
       "         [0.0000000e+00],\n",
       "         [0.0000000e+00],\n",
       "         [2.1222609e-03],\n",
       "         [3.4755864e-03],\n",
       "         [3.0911188e-03],\n",
       "         [3.0296040e-03],\n",
       "         [3.0603614e-03],\n",
       "         [2.9834679e-03],\n",
       "         [2.5682431e-03],\n",
       "         [3.1680122e-03],\n",
       "         [2.8758170e-03],\n",
       "         [3.1526336e-03],\n",
       "         [2.7527874e-03],\n",
       "         [2.0915035e-03],\n",
       "         [3.2756634e-03],\n",
       "         [2.8758170e-03],\n",
       "         [3.0603614e-03],\n",
       "         [3.2910421e-03],\n",
       "         [3.3217994e-03],\n",
       "         [2.9219531e-03],\n",
       "         [0.0000000e+00],\n",
       "         [0.0000000e+00],\n",
       "         [0.0000000e+00],\n",
       "         [0.0000000e+00],\n",
       "         [0.0000000e+00]],\n",
       "\n",
       "        [[0.0000000e+00],\n",
       "         [0.0000000e+00],\n",
       "         [0.0000000e+00],\n",
       "         [0.0000000e+00],\n",
       "         [0.0000000e+00],\n",
       "         [2.5067283e-03],\n",
       "         [3.4448290e-03],\n",
       "         [3.2295270e-03],\n",
       "         [3.1680122e-03],\n",
       "         [3.3064208e-03],\n",
       "         [3.0911188e-03],\n",
       "         [2.4913496e-03],\n",
       "         [3.5524799e-03],\n",
       "         [3.0142253e-03],\n",
       "         [3.3064208e-03],\n",
       "         [2.9680892e-03],\n",
       "         [2.1530183e-03],\n",
       "         [3.6139947e-03],\n",
       "         [3.0757401e-03],\n",
       "         [2.9527105e-03],\n",
       "         [3.2756634e-03],\n",
       "         [3.3217994e-03],\n",
       "         [3.3371781e-03],\n",
       "         [2.7681663e-04],\n",
       "         [0.0000000e+00],\n",
       "         [0.0000000e+00],\n",
       "         [0.0000000e+00],\n",
       "         [0.0000000e+00]],\n",
       "\n",
       "        [[0.0000000e+00],\n",
       "         [0.0000000e+00],\n",
       "         [0.0000000e+00],\n",
       "         [0.0000000e+00],\n",
       "         [0.0000000e+00],\n",
       "         [3.0296040e-03],\n",
       "         [3.3525568e-03],\n",
       "         [3.2756634e-03],\n",
       "         [3.0757401e-03],\n",
       "         [3.3064208e-03],\n",
       "         [2.8450596e-03],\n",
       "         [2.4298348e-03],\n",
       "         [3.5371012e-03],\n",
       "         [3.1218762e-03],\n",
       "         [3.2141483e-03],\n",
       "         [3.3217994e-03],\n",
       "         [1.9069589e-03],\n",
       "         [3.6293734e-03],\n",
       "         [3.2756634e-03],\n",
       "         [3.0296040e-03],\n",
       "         [3.3371781e-03],\n",
       "         [3.3833142e-03],\n",
       "         [3.5217225e-03],\n",
       "         [1.3225683e-03],\n",
       "         [0.0000000e+00],\n",
       "         [0.0000000e+00],\n",
       "         [0.0000000e+00],\n",
       "         [0.0000000e+00]],\n",
       "\n",
       "        [[0.0000000e+00],\n",
       "         [0.0000000e+00],\n",
       "         [0.0000000e+00],\n",
       "         [0.0000000e+00],\n",
       "         [4.4598232e-04],\n",
       "         [3.3064208e-03],\n",
       "         [3.2910421e-03],\n",
       "         [3.3217994e-03],\n",
       "         [3.1680122e-03],\n",
       "         [3.2756634e-03],\n",
       "         [3.1680122e-03],\n",
       "         [3.1833909e-03],\n",
       "         [3.3064208e-03],\n",
       "         [3.2141483e-03],\n",
       "         [3.1987696e-03],\n",
       "         [3.3833142e-03],\n",
       "         [1.9838526e-03],\n",
       "         [3.4755864e-03],\n",
       "         [3.2602844e-03],\n",
       "         [3.2449057e-03],\n",
       "         [3.4755864e-03],\n",
       "         [3.4448290e-03],\n",
       "         [3.6139947e-03],\n",
       "         [2.0607461e-03],\n",
       "         [0.0000000e+00],\n",
       "         [0.0000000e+00],\n",
       "         [0.0000000e+00],\n",
       "         [0.0000000e+00]],\n",
       "\n",
       "        [[0.0000000e+00],\n",
       "         [0.0000000e+00],\n",
       "         [0.0000000e+00],\n",
       "         [0.0000000e+00],\n",
       "         [1.3687044e-03],\n",
       "         [3.4140716e-03],\n",
       "         [3.2756634e-03],\n",
       "         [3.3679355e-03],\n",
       "         [3.2449057e-03],\n",
       "         [3.2910421e-03],\n",
       "         [3.2141483e-03],\n",
       "         [3.3371781e-03],\n",
       "         [3.2295270e-03],\n",
       "         [3.1833909e-03],\n",
       "         [3.2141483e-03],\n",
       "         [3.3679355e-03],\n",
       "         [2.6143792e-03],\n",
       "         [3.3833142e-03],\n",
       "         [3.1987696e-03],\n",
       "         [3.4140716e-03],\n",
       "         [3.6139947e-03],\n",
       "         [3.4140716e-03],\n",
       "         [3.6908882e-03],\n",
       "         [2.5990005e-03],\n",
       "         [0.0000000e+00],\n",
       "         [0.0000000e+00],\n",
       "         [0.0000000e+00],\n",
       "         [0.0000000e+00]],\n",
       "\n",
       "        [[0.0000000e+00],\n",
       "         [0.0000000e+00],\n",
       "         [0.0000000e+00],\n",
       "         [0.0000000e+00],\n",
       "         [2.0607461e-03],\n",
       "         [3.4140716e-03],\n",
       "         [3.3064208e-03],\n",
       "         [3.3833142e-03],\n",
       "         [3.2449057e-03],\n",
       "         [3.3525568e-03],\n",
       "         [3.1833909e-03],\n",
       "         [3.3064208e-03],\n",
       "         [3.2295270e-03],\n",
       "         [3.2141483e-03],\n",
       "         [3.2295270e-03],\n",
       "         [3.2756634e-03],\n",
       "         [3.3833142e-03],\n",
       "         [3.2602844e-03],\n",
       "         [3.1218762e-03],\n",
       "         [3.4140716e-03],\n",
       "         [3.5986160e-03],\n",
       "         [3.4909651e-03],\n",
       "         [3.6755095e-03],\n",
       "         [3.1987696e-03],\n",
       "         [0.0000000e+00],\n",
       "         [0.0000000e+00],\n",
       "         [0.0000000e+00],\n",
       "         [0.0000000e+00]],\n",
       "\n",
       "        [[0.0000000e+00],\n",
       "         [0.0000000e+00],\n",
       "         [0.0000000e+00],\n",
       "         [0.0000000e+00],\n",
       "         [2.8296809e-03],\n",
       "         [3.3679355e-03],\n",
       "         [3.3371781e-03],\n",
       "         [3.4909651e-03],\n",
       "         [3.2602844e-03],\n",
       "         [3.2910421e-03],\n",
       "         [3.1987696e-03],\n",
       "         [3.3217994e-03],\n",
       "         [3.2295270e-03],\n",
       "         [3.2602844e-03],\n",
       "         [3.2910421e-03],\n",
       "         [3.2449057e-03],\n",
       "         [3.2449057e-03],\n",
       "         [3.3217994e-03],\n",
       "         [3.1064975e-03],\n",
       "         [3.2910421e-03],\n",
       "         [3.3986929e-03],\n",
       "         [3.6139947e-03],\n",
       "         [3.6601308e-03],\n",
       "         [3.5217225e-03],\n",
       "         [0.0000000e+00],\n",
       "         [0.0000000e+00],\n",
       "         [0.0000000e+00],\n",
       "         [0.0000000e+00]],\n",
       "\n",
       "        [[0.0000000e+00],\n",
       "         [0.0000000e+00],\n",
       "         [0.0000000e+00],\n",
       "         [0.0000000e+00],\n",
       "         [3.3371781e-03],\n",
       "         [3.3371781e-03],\n",
       "         [3.3986929e-03],\n",
       "         [3.5832373e-03],\n",
       "         [3.2756634e-03],\n",
       "         [3.2449057e-03],\n",
       "         [3.1680122e-03],\n",
       "         [3.3371781e-03],\n",
       "         [3.2756634e-03],\n",
       "         [3.2449057e-03],\n",
       "         [3.2295270e-03],\n",
       "         [3.2449057e-03],\n",
       "         [3.2602844e-03],\n",
       "         [3.4448290e-03],\n",
       "         [3.0911188e-03],\n",
       "         [3.3217994e-03],\n",
       "         [3.3679355e-03],\n",
       "         [3.6601308e-03],\n",
       "         [3.6908882e-03],\n",
       "         [3.2756634e-03],\n",
       "         [1.3840832e-04],\n",
       "         [0.0000000e+00],\n",
       "         [0.0000000e+00],\n",
       "         [0.0000000e+00]],\n",
       "\n",
       "        [[0.0000000e+00],\n",
       "         [0.0000000e+00],\n",
       "         [0.0000000e+00],\n",
       "         [0.0000000e+00],\n",
       "         [3.5524799e-03],\n",
       "         [3.3217994e-03],\n",
       "         [3.4602077e-03],\n",
       "         [3.5832373e-03],\n",
       "         [3.3217994e-03],\n",
       "         [3.1680122e-03],\n",
       "         [3.1987696e-03],\n",
       "         [3.3833142e-03],\n",
       "         [3.2910421e-03],\n",
       "         [3.2756634e-03],\n",
       "         [3.2910421e-03],\n",
       "         [3.2910421e-03],\n",
       "         [3.2910421e-03],\n",
       "         [3.4755864e-03],\n",
       "         [3.0757401e-03],\n",
       "         [3.3679355e-03],\n",
       "         [2.9680892e-03],\n",
       "         [3.6755095e-03],\n",
       "         [3.7370243e-03],\n",
       "         [3.3679355e-03],\n",
       "         [7.9969241e-04],\n",
       "         [0.0000000e+00],\n",
       "         [0.0000000e+00],\n",
       "         [0.0000000e+00]],\n",
       "\n",
       "        [[0.0000000e+00],\n",
       "         [0.0000000e+00],\n",
       "         [0.0000000e+00],\n",
       "         [3.0757402e-04],\n",
       "         [3.7216456e-03],\n",
       "         [3.3371781e-03],\n",
       "         [3.5371012e-03],\n",
       "         [3.6908882e-03],\n",
       "         [3.3064208e-03],\n",
       "         [3.1987696e-03],\n",
       "         [3.2602844e-03],\n",
       "         [3.4602077e-03],\n",
       "         [3.3371781e-03],\n",
       "         [3.2756634e-03],\n",
       "         [3.2910421e-03],\n",
       "         [3.3064208e-03],\n",
       "         [3.2602844e-03],\n",
       "         [3.4140716e-03],\n",
       "         [3.2295270e-03],\n",
       "         [3.2449057e-03],\n",
       "         [3.0757401e-03],\n",
       "         [3.6293734e-03],\n",
       "         [3.7677817e-03],\n",
       "         [3.4140716e-03],\n",
       "         [1.2610535e-03],\n",
       "         [0.0000000e+00],\n",
       "         [0.0000000e+00],\n",
       "         [0.0000000e+00]],\n",
       "\n",
       "        [[0.0000000e+00],\n",
       "         [0.0000000e+00],\n",
       "         [0.0000000e+00],\n",
       "         [7.9969241e-04],\n",
       "         [3.2602844e-03],\n",
       "         [3.3986929e-03],\n",
       "         [3.5832373e-03],\n",
       "         [3.3986929e-03],\n",
       "         [3.3064208e-03],\n",
       "         [3.1064975e-03],\n",
       "         [3.2910421e-03],\n",
       "         [3.5063438e-03],\n",
       "         [3.3525568e-03],\n",
       "         [3.2910421e-03],\n",
       "         [3.3064208e-03],\n",
       "         [3.3064208e-03],\n",
       "         [3.2910421e-03],\n",
       "         [3.3679355e-03],\n",
       "         [3.3833142e-03],\n",
       "         [3.0757401e-03],\n",
       "         [3.2756634e-03],\n",
       "         [3.7831604e-03],\n",
       "         [3.7524030e-03],\n",
       "         [3.7524030e-03],\n",
       "         [1.5532487e-03],\n",
       "         [0.0000000e+00],\n",
       "         [0.0000000e+00],\n",
       "         [0.0000000e+00]],\n",
       "\n",
       "        [[0.0000000e+00],\n",
       "         [0.0000000e+00],\n",
       "         [0.0000000e+00],\n",
       "         [1.1841600e-03],\n",
       "         [3.6601308e-03],\n",
       "         [3.4448290e-03],\n",
       "         [3.7062669e-03],\n",
       "         [3.2602844e-03],\n",
       "         [3.3371781e-03],\n",
       "         [3.0296040e-03],\n",
       "         [3.3833142e-03],\n",
       "         [3.5217225e-03],\n",
       "         [3.3679355e-03],\n",
       "         [3.3525568e-03],\n",
       "         [3.3371781e-03],\n",
       "         [3.3679355e-03],\n",
       "         [3.3064208e-03],\n",
       "         [3.3525568e-03],\n",
       "         [3.3986929e-03],\n",
       "         [3.0757401e-03],\n",
       "         [3.1833909e-03],\n",
       "         [3.8446751e-03],\n",
       "         [3.7985391e-03],\n",
       "         [3.6755095e-03],\n",
       "         [2.0299887e-03],\n",
       "         [0.0000000e+00],\n",
       "         [0.0000000e+00],\n",
       "         [0.0000000e+00]],\n",
       "\n",
       "        [[0.0000000e+00],\n",
       "         [0.0000000e+00],\n",
       "         [0.0000000e+00],\n",
       "         [1.2610535e-03],\n",
       "         [3.6139947e-03],\n",
       "         [3.4755864e-03],\n",
       "         [3.5986160e-03],\n",
       "         [3.0603614e-03],\n",
       "         [3.3371781e-03],\n",
       "         [3.0296040e-03],\n",
       "         [3.4755864e-03],\n",
       "         [3.5371012e-03],\n",
       "         [3.4448290e-03],\n",
       "         [3.3679355e-03],\n",
       "         [3.3371781e-03],\n",
       "         [3.3833142e-03],\n",
       "         [3.3217994e-03],\n",
       "         [3.3217994e-03],\n",
       "         [3.4755864e-03],\n",
       "         [3.2141483e-03],\n",
       "         [3.0603614e-03],\n",
       "         [3.7985391e-03],\n",
       "         [3.8292964e-03],\n",
       "         [3.5986160e-03],\n",
       "         [2.2452904e-03],\n",
       "         [0.0000000e+00],\n",
       "         [0.0000000e+00],\n",
       "         [0.0000000e+00]],\n",
       "\n",
       "        [[0.0000000e+00],\n",
       "         [0.0000000e+00],\n",
       "         [0.0000000e+00],\n",
       "         [1.6301422e-03],\n",
       "         [3.5371012e-03],\n",
       "         [3.5832373e-03],\n",
       "         [3.1680122e-03],\n",
       "         [2.7066513e-03],\n",
       "         [3.3064208e-03],\n",
       "         [3.0603614e-03],\n",
       "         [3.5986160e-03],\n",
       "         [3.5371012e-03],\n",
       "         [3.3833142e-03],\n",
       "         [3.3371781e-03],\n",
       "         [3.3217994e-03],\n",
       "         [3.3833142e-03],\n",
       "         [3.3525568e-03],\n",
       "         [3.2910421e-03],\n",
       "         [3.4448290e-03],\n",
       "         [3.3525568e-03],\n",
       "         [3.0142253e-03],\n",
       "         [3.2449057e-03],\n",
       "         [3.8139177e-03],\n",
       "         [3.5678586e-03],\n",
       "         [2.5528644e-03],\n",
       "         [0.0000000e+00],\n",
       "         [0.0000000e+00],\n",
       "         [0.0000000e+00]],\n",
       "\n",
       "        [[0.0000000e+00],\n",
       "         [0.0000000e+00],\n",
       "         [0.0000000e+00],\n",
       "         [1.9377163e-03],\n",
       "         [3.2910421e-03],\n",
       "         [3.6447521e-03],\n",
       "         [3.1372549e-03],\n",
       "         [2.9065744e-03],\n",
       "         [3.1526336e-03],\n",
       "         [3.1833909e-03],\n",
       "         [3.6293734e-03],\n",
       "         [3.5217225e-03],\n",
       "         [3.3525568e-03],\n",
       "         [3.3525568e-03],\n",
       "         [3.3679355e-03],\n",
       "         [3.4602077e-03],\n",
       "         [3.4448290e-03],\n",
       "         [3.3679355e-03],\n",
       "         [3.3833142e-03],\n",
       "         [3.3679355e-03],\n",
       "         [3.0603614e-03],\n",
       "         [3.0757401e-03],\n",
       "         [3.7985391e-03],\n",
       "         [3.4602077e-03],\n",
       "         [2.6758939e-03],\n",
       "         [0.0000000e+00],\n",
       "         [0.0000000e+00],\n",
       "         [0.0000000e+00]],\n",
       "\n",
       "        [[0.0000000e+00],\n",
       "         [0.0000000e+00],\n",
       "         [0.0000000e+00],\n",
       "         [2.2299117e-03],\n",
       "         [3.2910421e-03],\n",
       "         [3.7370243e-03],\n",
       "         [3.1218762e-03],\n",
       "         [3.0449827e-03],\n",
       "         [3.0757401e-03],\n",
       "         [3.3064208e-03],\n",
       "         [3.5217225e-03],\n",
       "         [3.4909651e-03],\n",
       "         [3.3679355e-03],\n",
       "         [3.3371781e-03],\n",
       "         [3.3064208e-03],\n",
       "         [3.3525568e-03],\n",
       "         [3.3679355e-03],\n",
       "         [3.3525568e-03],\n",
       "         [3.3217994e-03],\n",
       "         [3.3064208e-03],\n",
       "         [3.1526336e-03],\n",
       "         [3.4140716e-03],\n",
       "         [3.7524030e-03],\n",
       "         [3.4755864e-03],\n",
       "         [2.7527874e-03],\n",
       "         [0.0000000e+00],\n",
       "         [0.0000000e+00],\n",
       "         [0.0000000e+00]],\n",
       "\n",
       "        [[0.0000000e+00],\n",
       "         [0.0000000e+00],\n",
       "         [0.0000000e+00],\n",
       "         [2.6297579e-03],\n",
       "         [3.2602844e-03],\n",
       "         [3.8446751e-03],\n",
       "         [1.8608228e-03],\n",
       "         [2.9834679e-03],\n",
       "         [3.2756634e-03],\n",
       "         [3.4755864e-03],\n",
       "         [3.5832373e-03],\n",
       "         [3.6293734e-03],\n",
       "         [3.5832373e-03],\n",
       "         [3.5524799e-03],\n",
       "         [3.5063438e-03],\n",
       "         [3.4909651e-03],\n",
       "         [3.5063438e-03],\n",
       "         [3.5986160e-03],\n",
       "         [3.6293734e-03],\n",
       "         [3.5986160e-03],\n",
       "         [3.2910421e-03],\n",
       "         [2.8143022e-03],\n",
       "         [3.8600538e-03],\n",
       "         [3.5217225e-03],\n",
       "         [2.7835448e-03],\n",
       "         [0.0000000e+00],\n",
       "         [0.0000000e+00],\n",
       "         [0.0000000e+00]],\n",
       "\n",
       "        [[0.0000000e+00],\n",
       "         [0.0000000e+00],\n",
       "         [0.0000000e+00],\n",
       "         [2.1222609e-03],\n",
       "         [3.3833142e-03],\n",
       "         [3.6601308e-03],\n",
       "         [7.6893506e-05],\n",
       "         [2.6297579e-03],\n",
       "         [3.1680122e-03],\n",
       "         [2.6758939e-03],\n",
       "         [2.7835448e-03],\n",
       "         [2.8604383e-03],\n",
       "         [2.8604383e-03],\n",
       "         [2.7066513e-03],\n",
       "         [2.6605153e-03],\n",
       "         [2.6451366e-03],\n",
       "         [2.9065744e-03],\n",
       "         [2.7066513e-03],\n",
       "         [2.7835448e-03],\n",
       "         [2.8758170e-03],\n",
       "         [2.5067283e-03],\n",
       "         [6.7666284e-04],\n",
       "         [3.7524030e-03],\n",
       "         [3.5678586e-03],\n",
       "         [1.6301422e-03],\n",
       "         [0.0000000e+00],\n",
       "         [0.0000000e+00],\n",
       "         [0.0000000e+00]],\n",
       "\n",
       "        [[0.0000000e+00],\n",
       "         [0.0000000e+00],\n",
       "         [0.0000000e+00],\n",
       "         [1.4455979e-03],\n",
       "         [3.6447521e-03],\n",
       "         [3.7831604e-03],\n",
       "         [0.0000000e+00],\n",
       "         [0.0000000e+00],\n",
       "         [0.0000000e+00],\n",
       "         [0.0000000e+00],\n",
       "         [0.0000000e+00],\n",
       "         [0.0000000e+00],\n",
       "         [0.0000000e+00],\n",
       "         [0.0000000e+00],\n",
       "         [0.0000000e+00],\n",
       "         [0.0000000e+00],\n",
       "         [0.0000000e+00],\n",
       "         [0.0000000e+00],\n",
       "         [0.0000000e+00],\n",
       "         [0.0000000e+00],\n",
       "         [0.0000000e+00],\n",
       "         [7.2279893e-04],\n",
       "         [3.9215689e-03],\n",
       "         [3.7370243e-03],\n",
       "         [1.5686274e-03],\n",
       "         [0.0000000e+00],\n",
       "         [0.0000000e+00],\n",
       "         [0.0000000e+00]],\n",
       "\n",
       "        [[0.0000000e+00],\n",
       "         [0.0000000e+00],\n",
       "         [0.0000000e+00],\n",
       "         [3.2295272e-04],\n",
       "         [1.7070358e-03],\n",
       "         [1.7685506e-03],\n",
       "         [0.0000000e+00],\n",
       "         [0.0000000e+00],\n",
       "         [0.0000000e+00],\n",
       "         [0.0000000e+00],\n",
       "         [0.0000000e+00],\n",
       "         [0.0000000e+00],\n",
       "         [0.0000000e+00],\n",
       "         [0.0000000e+00],\n",
       "         [0.0000000e+00],\n",
       "         [0.0000000e+00],\n",
       "         [0.0000000e+00],\n",
       "         [0.0000000e+00],\n",
       "         [0.0000000e+00],\n",
       "         [0.0000000e+00],\n",
       "         [0.0000000e+00],\n",
       "         [0.0000000e+00],\n",
       "         [1.5378700e-03],\n",
       "         [1.1841600e-03],\n",
       "         [3.0757405e-05],\n",
       "         [0.0000000e+00],\n",
       "         [0.0000000e+00],\n",
       "         [0.0000000e+00]]]], dtype=float32)"
      ]
     },
     "execution_count": 68,
     "metadata": {},
     "output_type": "execute_result"
    }
   ],
   "source": [
    "interm_tensor"
   ]
  },
  {
   "cell_type": "code",
   "execution_count": 69,
   "metadata": {},
   "outputs": [],
   "source": [
    "activations = activation_model.predict(interm_tensor)"
   ]
  },
  {
   "cell_type": "code",
   "execution_count": 70,
   "metadata": {},
   "outputs": [
    {
     "name": "stdout",
     "output_type": "stream",
     "text": [
      "(1, 26, 26, 32)\n"
     ]
    }
   ],
   "source": [
    "first_layer_activation = activations[0]\n",
    "print(first_layer_activation.shape)"
   ]
  },
  {
   "cell_type": "code",
   "execution_count": 73,
   "metadata": {},
   "outputs": [
    {
     "data": {
      "image/png": "[encoded data removed]",
      "text/plain": [
       "<matplotlib.figure.Figure at 0x18296bfbe0>"
      ]
     },
     "metadata": {},
     "output_type": "display_data"
    }
   ],
   "source": [
    "import matplotlib.pyplot as plt\n",
    "plt.matshow(first_layer_activation[0, :, :, 1], cmap='viridis');"
   ]
  },
  {
   "cell_type": "code",
   "execution_count": 74,
   "metadata": {},
   "outputs": [
    {
     "data": {
      "image/png": "[encoded data removed]",
      "text/plain": [
       "<matplotlib.figure.Figure at 0x1829fc4da0>"
      ]
     },
     "metadata": {},
     "output_type": "display_data"
    }
   ],
   "source": [
    "plt.matshow(first_layer_activation[0, :, :, 2], cmap='viridis');"
   ]
  },
  {
   "cell_type": "code",
   "execution_count": null,
   "metadata": {},
   "outputs": [],
   "source": []
  }
 ],
 "metadata": {
  "kernelspec": {
   "display_name": "Python 3",
   "language": "python",
   "name": "python3"
  },
  "language_info": {
   "codemirror_mode": {
    "name": "ipython",
    "version": 3
   },
   "file_extension": ".py",
   "mimetype": "text/x-python",
   "name": "python",
   "nbconvert_exporter": "python",
   "pygments_lexer": "ipython3",
   "version": "3.6.4"
  }
 },
 "nbformat": 4,
 "nbformat_minor": 2
}
